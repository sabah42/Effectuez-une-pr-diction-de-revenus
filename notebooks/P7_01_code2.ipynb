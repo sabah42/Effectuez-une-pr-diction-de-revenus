{
 "cells": [
  {
   "cell_type": "markdown",
   "metadata": {},
   "source": [
    "## Importation des packages"
   ]
  },
  {
   "cell_type": "code",
   "execution_count": 1,
   "metadata": {},
   "outputs": [],
   "source": [
    "import pandas as pd\n",
    "import numpy as np \n",
    "import matplotlib.pyplot as plt\n",
    "import seaborn as sns\n",
    "import scipy.stats as stats\n",
    "from sklearn.cluster import KMeans\n",
    "from sklearn import decomposition\n",
    "from sklearn import preprocessing\n",
    "from functions import *\n",
    "import scipy.stats as st\n",
    "from collections import Counter\n",
    "from scipy.stats import t, shapiro\n",
    "import statsmodels\n",
    "import statsmodels.api as sm\n",
    "import statsmodels.formula.api as smf\n",
    "from statsmodels.stats.anova import anova_lm\n",
    "from statsmodels.stats.outliers_influence import variance_inflation_factor"
   ]
  },
  {
   "cell_type": "markdown",
   "metadata": {},
   "source": [
    "## Importation des données"
   ]
  },
  {
   "cell_type": "code",
   "execution_count": 2,
   "metadata": {},
   "outputs": [
    {
     "data": {
      "text/html": [
       "<div>\n",
       "<style scoped>\n",
       "    .dataframe tbody tr th:only-of-type {\n",
       "        vertical-align: middle;\n",
       "    }\n",
       "\n",
       "    .dataframe tbody tr th {\n",
       "        vertical-align: top;\n",
       "    }\n",
       "\n",
       "    .dataframe thead th {\n",
       "        text-align: right;\n",
       "    }\n",
       "</style>\n",
       "<table border=\"1\" class=\"dataframe\">\n",
       "  <thead>\n",
       "    <tr style=\"text-align: right;\">\n",
       "      <th></th>\n",
       "      <th>country</th>\n",
       "      <th>Pays</th>\n",
       "      <th>gdpppp</th>\n",
       "      <th>y_child</th>\n",
       "      <th>indice_gini</th>\n",
       "      <th>coeff_elas</th>\n",
       "      <th>c_i_parents</th>\n",
       "      <th>mj</th>\n",
       "      <th>ln_y_child</th>\n",
       "      <th>ln_mj</th>\n",
       "    </tr>\n",
       "  </thead>\n",
       "  <tbody>\n",
       "    <tr>\n",
       "      <th>0</th>\n",
       "      <td>ALB</td>\n",
       "      <td>Albanie</td>\n",
       "      <td>7297.0</td>\n",
       "      <td>728.89795</td>\n",
       "      <td>30.0</td>\n",
       "      <td>0.815874</td>\n",
       "      <td>1</td>\n",
       "      <td>2994.829902</td>\n",
       "      <td>6.591534</td>\n",
       "      <td>8.004643</td>\n",
       "    </tr>\n",
       "    <tr>\n",
       "      <th>1</th>\n",
       "      <td>ALB</td>\n",
       "      <td>Albanie</td>\n",
       "      <td>7297.0</td>\n",
       "      <td>728.89795</td>\n",
       "      <td>30.0</td>\n",
       "      <td>0.815874</td>\n",
       "      <td>1</td>\n",
       "      <td>2994.829902</td>\n",
       "      <td>6.591534</td>\n",
       "      <td>8.004643</td>\n",
       "    </tr>\n",
       "    <tr>\n",
       "      <th>2</th>\n",
       "      <td>ALB</td>\n",
       "      <td>Albanie</td>\n",
       "      <td>7297.0</td>\n",
       "      <td>728.89795</td>\n",
       "      <td>30.0</td>\n",
       "      <td>0.815874</td>\n",
       "      <td>1</td>\n",
       "      <td>2994.829902</td>\n",
       "      <td>6.591534</td>\n",
       "      <td>8.004643</td>\n",
       "    </tr>\n",
       "    <tr>\n",
       "      <th>3</th>\n",
       "      <td>ALB</td>\n",
       "      <td>Albanie</td>\n",
       "      <td>7297.0</td>\n",
       "      <td>728.89795</td>\n",
       "      <td>30.0</td>\n",
       "      <td>0.815874</td>\n",
       "      <td>1</td>\n",
       "      <td>2994.829902</td>\n",
       "      <td>6.591534</td>\n",
       "      <td>8.004643</td>\n",
       "    </tr>\n",
       "    <tr>\n",
       "      <th>4</th>\n",
       "      <td>ALB</td>\n",
       "      <td>Albanie</td>\n",
       "      <td>7297.0</td>\n",
       "      <td>728.89795</td>\n",
       "      <td>30.0</td>\n",
       "      <td>0.815874</td>\n",
       "      <td>1</td>\n",
       "      <td>2994.829902</td>\n",
       "      <td>6.591534</td>\n",
       "      <td>8.004643</td>\n",
       "    </tr>\n",
       "    <tr>\n",
       "      <th>...</th>\n",
       "      <td>...</td>\n",
       "      <td>...</td>\n",
       "      <td>...</td>\n",
       "      <td>...</td>\n",
       "      <td>...</td>\n",
       "      <td>...</td>\n",
       "      <td>...</td>\n",
       "      <td>...</td>\n",
       "      <td>...</td>\n",
       "      <td>...</td>\n",
       "    </tr>\n",
       "    <tr>\n",
       "      <th>5699995</th>\n",
       "      <td>ZAF</td>\n",
       "      <td>Afrique du Sud</td>\n",
       "      <td>9602.0</td>\n",
       "      <td>82408.55000</td>\n",
       "      <td>63.0</td>\n",
       "      <td>0.677000</td>\n",
       "      <td>100</td>\n",
       "      <td>5617.904880</td>\n",
       "      <td>11.319444</td>\n",
       "      <td>8.633714</td>\n",
       "    </tr>\n",
       "    <tr>\n",
       "      <th>5699996</th>\n",
       "      <td>ZAF</td>\n",
       "      <td>Afrique du Sud</td>\n",
       "      <td>9602.0</td>\n",
       "      <td>82408.55000</td>\n",
       "      <td>63.0</td>\n",
       "      <td>0.677000</td>\n",
       "      <td>100</td>\n",
       "      <td>5617.904880</td>\n",
       "      <td>11.319444</td>\n",
       "      <td>8.633714</td>\n",
       "    </tr>\n",
       "    <tr>\n",
       "      <th>5699997</th>\n",
       "      <td>ZAF</td>\n",
       "      <td>Afrique du Sud</td>\n",
       "      <td>9602.0</td>\n",
       "      <td>82408.55000</td>\n",
       "      <td>63.0</td>\n",
       "      <td>0.677000</td>\n",
       "      <td>100</td>\n",
       "      <td>5617.904880</td>\n",
       "      <td>11.319444</td>\n",
       "      <td>8.633714</td>\n",
       "    </tr>\n",
       "    <tr>\n",
       "      <th>5699998</th>\n",
       "      <td>ZAF</td>\n",
       "      <td>Afrique du Sud</td>\n",
       "      <td>9602.0</td>\n",
       "      <td>82408.55000</td>\n",
       "      <td>63.0</td>\n",
       "      <td>0.677000</td>\n",
       "      <td>100</td>\n",
       "      <td>5617.904880</td>\n",
       "      <td>11.319444</td>\n",
       "      <td>8.633714</td>\n",
       "    </tr>\n",
       "    <tr>\n",
       "      <th>5699999</th>\n",
       "      <td>ZAF</td>\n",
       "      <td>Afrique du Sud</td>\n",
       "      <td>9602.0</td>\n",
       "      <td>82408.55000</td>\n",
       "      <td>63.0</td>\n",
       "      <td>0.677000</td>\n",
       "      <td>100</td>\n",
       "      <td>5617.904880</td>\n",
       "      <td>11.319444</td>\n",
       "      <td>8.633714</td>\n",
       "    </tr>\n",
       "  </tbody>\n",
       "</table>\n",
       "<p>5700000 rows × 10 columns</p>\n",
       "</div>"
      ],
      "text/plain": [
       "        country            Pays  gdpppp      y_child  indice_gini  coeff_elas  \\\n",
       "0           ALB         Albanie  7297.0    728.89795         30.0    0.815874   \n",
       "1           ALB         Albanie  7297.0    728.89795         30.0    0.815874   \n",
       "2           ALB         Albanie  7297.0    728.89795         30.0    0.815874   \n",
       "3           ALB         Albanie  7297.0    728.89795         30.0    0.815874   \n",
       "4           ALB         Albanie  7297.0    728.89795         30.0    0.815874   \n",
       "...         ...             ...     ...          ...          ...         ...   \n",
       "5699995     ZAF  Afrique du Sud  9602.0  82408.55000         63.0    0.677000   \n",
       "5699996     ZAF  Afrique du Sud  9602.0  82408.55000         63.0    0.677000   \n",
       "5699997     ZAF  Afrique du Sud  9602.0  82408.55000         63.0    0.677000   \n",
       "5699998     ZAF  Afrique du Sud  9602.0  82408.55000         63.0    0.677000   \n",
       "5699999     ZAF  Afrique du Sud  9602.0  82408.55000         63.0    0.677000   \n",
       "\n",
       "         c_i_parents           mj  ln_y_child     ln_mj  \n",
       "0                  1  2994.829902    6.591534  8.004643  \n",
       "1                  1  2994.829902    6.591534  8.004643  \n",
       "2                  1  2994.829902    6.591534  8.004643  \n",
       "3                  1  2994.829902    6.591534  8.004643  \n",
       "4                  1  2994.829902    6.591534  8.004643  \n",
       "...              ...          ...         ...       ...  \n",
       "5699995          100  5617.904880   11.319444  8.633714  \n",
       "5699996          100  5617.904880   11.319444  8.633714  \n",
       "5699997          100  5617.904880   11.319444  8.633714  \n",
       "5699998          100  5617.904880   11.319444  8.633714  \n",
       "5699999          100  5617.904880   11.319444  8.633714  \n",
       "\n",
       "[5700000 rows x 10 columns]"
      ]
     },
     "execution_count": 2,
     "metadata": {},
     "output_type": "execute_result"
    }
   ],
   "source": [
    "df = pd.DataFrame(pd.read_csv(\"dataframe7.csv\"))\n",
    "df"
   ]
  },
  {
   "cell_type": "markdown",
   "metadata": {},
   "source": [
    "## Mission04"
   ]
  },
  {
   "cell_type": "markdown",
   "metadata": {},
   "source": [
    "On veut expliquer le revenu d’un individus  en fonction de plusieur variable explicatives, dans un premier temps on utilise comme variable explicative le pays de l’individus donc il s’agit d’étudier l’impact d’une variable qualitative sur une variable quantitative c’est pour ça on utilise l ANOVA"
   ]
  },
  {
   "cell_type": "code",
   "execution_count": 3,
   "metadata": {},
   "outputs": [
    {
     "data": {
      "text/html": [
       "<div>\n",
       "<style scoped>\n",
       "    .dataframe tbody tr th:only-of-type {\n",
       "        vertical-align: middle;\n",
       "    }\n",
       "\n",
       "    .dataframe tbody tr th {\n",
       "        vertical-align: top;\n",
       "    }\n",
       "\n",
       "    .dataframe thead th {\n",
       "        text-align: right;\n",
       "    }\n",
       "</style>\n",
       "<table border=\"1\" class=\"dataframe\">\n",
       "  <thead>\n",
       "    <tr style=\"text-align: right;\">\n",
       "      <th></th>\n",
       "      <th>Pays</th>\n",
       "      <th>country</th>\n",
       "      <th>gdpppp</th>\n",
       "      <th>y_child</th>\n",
       "      <th>indice_gini</th>\n",
       "      <th>coeff_elas</th>\n",
       "      <th>mj</th>\n",
       "      <th>ln_y_child</th>\n",
       "      <th>ln_mj</th>\n",
       "      <th>c_i_parents</th>\n",
       "    </tr>\n",
       "  </thead>\n",
       "  <tbody>\n",
       "    <tr>\n",
       "      <th>0</th>\n",
       "      <td>Afrique du Sud</td>\n",
       "      <td>ZAF</td>\n",
       "      <td>9602.0</td>\n",
       "      <td>60.490383</td>\n",
       "      <td>63.0</td>\n",
       "      <td>0.677000</td>\n",
       "      <td>5617.904880</td>\n",
       "      <td>4.102484</td>\n",
       "      <td>8.633714</td>\n",
       "      <td>13.616</td>\n",
       "    </tr>\n",
       "    <tr>\n",
       "      <th>1</th>\n",
       "      <td>Afrique du Sud</td>\n",
       "      <td>ZAF</td>\n",
       "      <td>9602.0</td>\n",
       "      <td>138.341550</td>\n",
       "      <td>63.0</td>\n",
       "      <td>0.677000</td>\n",
       "      <td>5617.904880</td>\n",
       "      <td>4.929726</td>\n",
       "      <td>8.633714</td>\n",
       "      <td>17.416</td>\n",
       "    </tr>\n",
       "    <tr>\n",
       "      <th>2</th>\n",
       "      <td>Afrique du Sud</td>\n",
       "      <td>ZAF</td>\n",
       "      <td>9602.0</td>\n",
       "      <td>192.294500</td>\n",
       "      <td>63.0</td>\n",
       "      <td>0.677000</td>\n",
       "      <td>5617.904880</td>\n",
       "      <td>5.259028</td>\n",
       "      <td>8.633714</td>\n",
       "      <td>19.642</td>\n",
       "    </tr>\n",
       "    <tr>\n",
       "      <th>3</th>\n",
       "      <td>Afrique du Sud</td>\n",
       "      <td>ZAF</td>\n",
       "      <td>9602.0</td>\n",
       "      <td>236.994000</td>\n",
       "      <td>63.0</td>\n",
       "      <td>0.677000</td>\n",
       "      <td>5617.904880</td>\n",
       "      <td>5.468035</td>\n",
       "      <td>8.633714</td>\n",
       "      <td>22.442</td>\n",
       "    </tr>\n",
       "    <tr>\n",
       "      <th>4</th>\n",
       "      <td>Afrique du Sud</td>\n",
       "      <td>ZAF</td>\n",
       "      <td>9602.0</td>\n",
       "      <td>279.367580</td>\n",
       "      <td>63.0</td>\n",
       "      <td>0.677000</td>\n",
       "      <td>5617.904880</td>\n",
       "      <td>5.632528</td>\n",
       "      <td>8.633714</td>\n",
       "      <td>25.566</td>\n",
       "    </tr>\n",
       "    <tr>\n",
       "      <th>...</th>\n",
       "      <td>...</td>\n",
       "      <td>...</td>\n",
       "      <td>...</td>\n",
       "      <td>...</td>\n",
       "      <td>...</td>\n",
       "      <td>...</td>\n",
       "      <td>...</td>\n",
       "      <td>...</td>\n",
       "      <td>...</td>\n",
       "      <td>...</td>\n",
       "    </tr>\n",
       "    <tr>\n",
       "      <th>11395</th>\n",
       "      <td>États-Unis</td>\n",
       "      <td>USA</td>\n",
       "      <td>43261.0</td>\n",
       "      <td>69926.370000</td>\n",
       "      <td>40.8</td>\n",
       "      <td>0.537666</td>\n",
       "      <td>25503.581661</td>\n",
       "      <td>11.155198</td>\n",
       "      <td>10.146574</td>\n",
       "      <td>72.434</td>\n",
       "    </tr>\n",
       "    <tr>\n",
       "      <th>11396</th>\n",
       "      <td>États-Unis</td>\n",
       "      <td>USA</td>\n",
       "      <td>43261.0</td>\n",
       "      <td>77634.820000</td>\n",
       "      <td>40.8</td>\n",
       "      <td>0.537666</td>\n",
       "      <td>25503.581661</td>\n",
       "      <td>11.259771</td>\n",
       "      <td>10.146574</td>\n",
       "      <td>75.656</td>\n",
       "    </tr>\n",
       "    <tr>\n",
       "      <th>11397</th>\n",
       "      <td>États-Unis</td>\n",
       "      <td>USA</td>\n",
       "      <td>43261.0</td>\n",
       "      <td>88482.840000</td>\n",
       "      <td>40.8</td>\n",
       "      <td>0.537666</td>\n",
       "      <td>25503.581661</td>\n",
       "      <td>11.390564</td>\n",
       "      <td>10.146574</td>\n",
       "      <td>75.170</td>\n",
       "    </tr>\n",
       "    <tr>\n",
       "      <th>11398</th>\n",
       "      <td>États-Unis</td>\n",
       "      <td>USA</td>\n",
       "      <td>43261.0</td>\n",
       "      <td>106765.260000</td>\n",
       "      <td>40.8</td>\n",
       "      <td>0.537666</td>\n",
       "      <td>25503.581661</td>\n",
       "      <td>11.578388</td>\n",
       "      <td>10.146574</td>\n",
       "      <td>78.198</td>\n",
       "    </tr>\n",
       "    <tr>\n",
       "      <th>11399</th>\n",
       "      <td>États-Unis</td>\n",
       "      <td>USA</td>\n",
       "      <td>43261.0</td>\n",
       "      <td>176928.550000</td>\n",
       "      <td>40.8</td>\n",
       "      <td>0.537666</td>\n",
       "      <td>25503.581661</td>\n",
       "      <td>12.083501</td>\n",
       "      <td>10.146574</td>\n",
       "      <td>83.832</td>\n",
       "    </tr>\n",
       "  </tbody>\n",
       "</table>\n",
       "<p>11400 rows × 10 columns</p>\n",
       "</div>"
      ],
      "text/plain": [
       "                 Pays country   gdpppp        y_child  indice_gini  \\\n",
       "0      Afrique du Sud     ZAF   9602.0      60.490383         63.0   \n",
       "1      Afrique du Sud     ZAF   9602.0     138.341550         63.0   \n",
       "2      Afrique du Sud     ZAF   9602.0     192.294500         63.0   \n",
       "3      Afrique du Sud     ZAF   9602.0     236.994000         63.0   \n",
       "4      Afrique du Sud     ZAF   9602.0     279.367580         63.0   \n",
       "...               ...     ...      ...            ...          ...   \n",
       "11395      États-Unis     USA  43261.0   69926.370000         40.8   \n",
       "11396      États-Unis     USA  43261.0   77634.820000         40.8   \n",
       "11397      États-Unis     USA  43261.0   88482.840000         40.8   \n",
       "11398      États-Unis     USA  43261.0  106765.260000         40.8   \n",
       "11399      États-Unis     USA  43261.0  176928.550000         40.8   \n",
       "\n",
       "       coeff_elas            mj  ln_y_child      ln_mj  c_i_parents  \n",
       "0        0.677000   5617.904880    4.102484   8.633714       13.616  \n",
       "1        0.677000   5617.904880    4.929726   8.633714       17.416  \n",
       "2        0.677000   5617.904880    5.259028   8.633714       19.642  \n",
       "3        0.677000   5617.904880    5.468035   8.633714       22.442  \n",
       "4        0.677000   5617.904880    5.632528   8.633714       25.566  \n",
       "...           ...           ...         ...        ...          ...  \n",
       "11395    0.537666  25503.581661   11.155198  10.146574       72.434  \n",
       "11396    0.537666  25503.581661   11.259771  10.146574       75.656  \n",
       "11397    0.537666  25503.581661   11.390564  10.146574       75.170  \n",
       "11398    0.537666  25503.581661   11.578388  10.146574       78.198  \n",
       "11399    0.537666  25503.581661   12.083501  10.146574       83.832  \n",
       "\n",
       "[11400 rows x 10 columns]"
      ]
     },
     "execution_count": 3,
     "metadata": {},
     "output_type": "execute_result"
    }
   ],
   "source": [
    "df_1=df.groupby(by=['Pays','country','gdpppp','y_child','indice_gini','coeff_elas','mj','ln_y_child','ln_mj']).mean().reset_index()\n",
    "df_1 #on groupe juste pour gagner du temps"
   ]
  },
  {
   "cell_type": "markdown",
   "metadata": {},
   "source": [
    "On trace le graphique boites à moustaches des revnus par les pays qu'on a sélectionné"
   ]
  },
  {
   "cell_type": "code",
   "execution_count": 4,
   "metadata": {},
   "outputs": [
    {
     "data": {
      "image/png": "[encoded data removed]",
      "text/plain": [
       "<Figure size 576x576 with 1 Axes>"
      ]
     },
     "metadata": {
      "needs_background": "light"
     },
     "output_type": "display_data"
    }
   ],
   "source": [
    "df_11 = df_1.loc[(df_1['Pays'] == 'Islande') |(df_1['Pays'] == 'France')  | (df_1['Pays'] == 'Chili') |\n",
    "                           (df_1['Pays'] == 'Paraguay')|(df_1['Pays'] == 'Viet Nam')]\n",
    "plt.figure(figsize=(8,8))\n",
    "\n",
    "ax = sns.boxplot(x='Pays', y='y_child', data=df_11)\n",
    "\n",
    "plt.ylabel('Revenu', fontsize=12)\n",
    "plt.yticks(fontsize=12)\n",
    "plt.xlabel('pays')\n",
    "plt.xticks(fontsize=12)\n",
    "plt.title(\"Boîtes à moustaches des revenus par pays\", fontsize=16)\n",
    "plt.tight_layout()\n",
    "plt.savefig(\"Boîtes à moustaches des revenus par pays.png\")\n"
   ]
  },
  {
   "cell_type": "markdown",
   "metadata": {},
   "source": [
    "on voit qu’il y a une différence dans la distribution des revenus par pays  donc le pays a un impact sur le revenu de l’individu"
   ]
  },
  {
   "cell_type": "markdown",
   "metadata": {},
   "source": [
    "On confirme ça avec l'ANOVA"
   ]
  },
  {
   "cell_type": "code",
   "execution_count": 5,
   "metadata": {},
   "outputs": [
    {
     "data": {
      "text/html": [
       "<div>\n",
       "<style scoped>\n",
       "    .dataframe tbody tr th:only-of-type {\n",
       "        vertical-align: middle;\n",
       "    }\n",
       "\n",
       "    .dataframe tbody tr th {\n",
       "        vertical-align: top;\n",
       "    }\n",
       "\n",
       "    .dataframe thead th {\n",
       "        text-align: right;\n",
       "    }\n",
       "</style>\n",
       "<table border=\"1\" class=\"dataframe\">\n",
       "  <thead>\n",
       "    <tr style=\"text-align: right;\">\n",
       "      <th></th>\n",
       "      <th>df</th>\n",
       "      <th>sum_sq</th>\n",
       "      <th>mean_sq</th>\n",
       "      <th>F</th>\n",
       "      <th>PR(&gt;F)</th>\n",
       "    </tr>\n",
       "  </thead>\n",
       "  <tbody>\n",
       "    <tr>\n",
       "      <th>Pays</th>\n",
       "      <td>113.0</td>\n",
       "      <td>5.057486e+11</td>\n",
       "      <td>4.475651e+09</td>\n",
       "      <td>97.618882</td>\n",
       "      <td>0.0</td>\n",
       "    </tr>\n",
       "    <tr>\n",
       "      <th>Residual</th>\n",
       "      <td>11286.0</td>\n",
       "      <td>5.174430e+11</td>\n",
       "      <td>4.584821e+07</td>\n",
       "      <td>NaN</td>\n",
       "      <td>NaN</td>\n",
       "    </tr>\n",
       "  </tbody>\n",
       "</table>\n",
       "</div>"
      ],
      "text/plain": [
       "               df        sum_sq       mean_sq          F  PR(>F)\n",
       "Pays        113.0  5.057486e+11  4.475651e+09  97.618882     0.0\n",
       "Residual  11286.0  5.174430e+11  4.584821e+07        NaN     NaN"
      ]
     },
     "execution_count": 5,
     "metadata": {},
     "output_type": "execute_result"
    }
   ],
   "source": [
    "#H0: Le pays n'a pas d'influence sur le revenu enfant moyen\n",
    "anova_pays = smf.ols('y_child~Pays', data=df_1).fit(alpha=0.05)\n",
    "table=sm.stats.anova_lm(anova_pays,typ=1)\n",
    "table"
   ]
  },
  {
   "cell_type": "code",
   "execution_count": 6,
   "metadata": {},
   "outputs": [
    {
     "data": {
      "text/plain": [
       "(113, 505748617375.83435, 4475651481.202074)"
      ]
     },
     "execution_count": 6,
     "metadata": {},
     "output_type": "execute_result"
    }
   ],
   "source": [
    "m = 114\n",
    "ddl1=(m - 1)\n",
    "SCE = table.iloc[0,1] #somme des carrés expliquée\n",
    "CME = SCE / ddl1  # les carrés moyens exliqués\n",
    "ddl1, SCE, CME"
   ]
  },
  {
   "cell_type": "code",
   "execution_count": 7,
   "metadata": {},
   "outputs": [
    {
     "data": {
      "text/plain": [
       "(11286, 517442951724.677, 45848214.754977584)"
      ]
     },
     "execution_count": 7,
     "metadata": {},
     "output_type": "execute_result"
    }
   ],
   "source": [
    "n = 11400\n",
    "ddl2=(n-m)\n",
    "SCR = table.iloc[1,1] # somme des carrés résiduelle\n",
    "CMR = SCR / ddl2    # les carrés moyens résiduelle\n",
    "ddl2, SCR, CMR"
   ]
  },
  {
   "cell_type": "code",
   "execution_count": 8,
   "metadata": {},
   "outputs": [
    {
     "data": {
      "text/plain": [
       "97.61888232989853"
      ]
     },
     "execution_count": 8,
     "metadata": {},
     "output_type": "execute_result"
    }
   ],
   "source": [
    "stat_f=CME/CMR# statistique de fisher\n",
    "stat_f"
   ]
  },
  {
   "cell_type": "code",
   "execution_count": 9,
   "metadata": {},
   "outputs": [
    {
     "data": {
      "text/plain": [
       "0.4942853641966953"
      ]
     },
     "execution_count": 9,
     "metadata": {},
     "output_type": "execute_result"
    }
   ],
   "source": [
    "# Coefficient de détermination\n",
    "R_sq=SCE/(SCE+SCR)\n",
    "R_sq # la vaiance expliquée du pays est:"
   ]
  },
  {
   "cell_type": "code",
   "execution_count": 10,
   "metadata": {},
   "outputs": [
    {
     "data": {
      "text/plain": [
       "0.4891771355522174"
      ]
     },
     "execution_count": 10,
     "metadata": {},
     "output_type": "execute_result"
    }
   ],
   "source": [
    "#coefficient de détermination ajusté\n",
    "R_ajusté=1-(n/(n-m))*(1-R_sq)\n",
    "R_ajusté"
   ]
  },
  {
   "cell_type": "code",
   "execution_count": 11,
   "metadata": {
    "scrolled": true
   },
   "outputs": [
    {
     "name": "stdout",
     "output_type": "stream",
     "text": [
      "                            OLS Regression Results                            \n",
      "==============================================================================\n",
      "Dep. Variable:                y_child   R-squared:                       0.494\n",
      "Model:                            OLS   Adj. R-squared:                  0.489\n",
      "Method:                 Least Squares   F-statistic:                     97.62\n",
      "Date:                Mon, 13 Sep 2021   Prob (F-statistic):               0.00\n",
      "Time:                        23:05:50   Log-Likelihood:            -1.1667e+05\n",
      "No. Observations:               11400   AIC:                         2.336e+05\n",
      "Df Residuals:                   11286   BIC:                         2.344e+05\n",
      "Df Model:                         113                                         \n",
      "Covariance Type:            nonrobust                                         \n",
      "==================================================================================================================\n",
      "                                                     coef    std err          t      P>|t|      [0.025      0.975]\n",
      "------------------------------------------------------------------------------------------------------------------\n",
      "Intercept                                       5617.9049    677.113      8.297      0.000    4290.645    6945.165\n",
      "Pays[T.Albanie]                                -2623.0750    957.583     -2.739      0.006   -4500.104    -746.046\n",
      "Pays[T.Allemagne]                               1.244e+04    957.583     12.995      0.000    1.06e+04    1.43e+04\n",
      "Pays[T.Argentine]                                229.9798    957.583      0.240      0.810   -1647.049    2107.008\n",
      "Pays[T.Arménie]                                -3989.5221    957.583     -4.166      0.000   -5866.551   -2112.494\n",
      "Pays[T.Autriche]                                1.102e+04    957.583     11.508      0.000    9142.667    1.29e+04\n",
      "Pays[T.Azerbaïdjan]                            -3260.4759    957.583     -3.405      0.001   -5137.504   -1383.447\n",
      "Pays[T.Bangladesh]                             -4619.2125    957.583     -4.824      0.000   -6496.241   -2742.184\n",
      "Pays[T.Belgique]                                9406.7093    957.583      9.823      0.000    7529.681    1.13e+04\n",
      "Pays[T.Bhoutan]                                -4101.9758    957.583     -4.284      0.000   -5979.004   -2224.947\n",
      "Pays[T.Biélorussie]                            -1696.7413    957.583     -1.772      0.076   -3573.770     180.287\n",
      "Pays[T.Bolivie]                                -2601.6410    957.583     -2.717      0.007   -4478.670    -724.612\n",
      "Pays[T.Bosnie-Herzégovine]                       716.7824    957.583      0.749      0.454   -1160.246    2593.811\n",
      "Pays[T.Brésil]                                  -810.4203    957.583     -0.846      0.397   -2687.449    1066.608\n",
      "Pays[T.Bulgarie]                                -632.9263    957.583     -0.661      0.509   -2509.955    1244.102\n",
      "Pays[T.Burkina Faso]                           -4699.9522    957.583     -4.908      0.000   -6576.981   -2822.924\n",
      "Pays[T.Cambodge]                               -4131.5646    957.583     -4.315      0.000   -6008.593   -2254.536\n",
      "Pays[T.Cameroun]                               -3823.4109    957.583     -3.993      0.000   -5700.439   -1946.382\n",
      "Pays[T.Canada]                                  1.812e+04    957.583     18.924      0.000    1.62e+04       2e+04\n",
      "Pays[T.Chili]                                   1433.7051    957.583      1.497      0.134    -443.323    3310.734\n",
      "Pays[T.Chine]                                  -3095.1462    957.583     -3.232      0.001   -4972.175   -1218.118\n",
      "Pays[T.Chypre]                                  1.173e+04    957.583     12.247      0.000    9850.454    1.36e+04\n",
      "Pays[T.Colombie]                               -2070.8996    957.583     -2.163      0.031   -3947.928    -193.871\n",
      "Pays[T.Congo République démocratique du]       -5341.8888    957.583     -5.579      0.000   -7218.917   -3464.860\n",
      "Pays[T.Corée République de]                     9609.6646    957.583     10.035      0.000    7732.636    1.15e+04\n",
      "Pays[T.Costa Rica]                               -37.5183    957.583     -0.039      0.969   -1914.547    1839.510\n",
      "Pays[T.Croatie]                                 2098.5609    957.583      2.192      0.028     221.532    3975.589\n",
      "Pays[T.Côte d'Ivoire]                          -5218.0697    957.583     -5.449      0.000   -7095.098   -3341.041\n",
      "Pays[T.Danemark]                                1.143e+04    957.583     11.931      0.000    9548.213    1.33e+04\n",
      "Pays[T.Egypte]                                 -3648.3275    957.583     -3.810      0.000   -5525.356   -1771.299\n",
      "Pays[T.El Salvador]                            -2762.6801    957.583     -2.885      0.004   -4639.709    -885.652\n",
      "Pays[T.Equateur]                               -2234.1639    957.583     -2.333      0.020   -4111.192    -357.135\n",
      "Pays[T.Espagne]                                 7499.0880    957.583      7.831      0.000    5622.059    9376.117\n",
      "Pays[T.Estonie]                                 2084.1577    957.583      2.176      0.030     207.129    3961.186\n",
      "Pays[T.Fidji]                                  -3519.1740    957.583     -3.675      0.000   -5396.203   -1642.145\n",
      "Pays[T.Finlande]                                1.069e+04    957.583     11.162      0.000    8811.397    1.26e+04\n",
      "Pays[T.France]                                  1.269e+04    957.583     13.254      0.000    1.08e+04    1.46e+04\n",
      "Pays[T.Fédération de Russie]                    1538.8658    957.583      1.607      0.108    -338.163    3415.894\n",
      "Pays[T.Ghana]                                  -4881.3024    957.583     -5.098      0.000   -6758.331   -3004.274\n",
      "Pays[T.Grèce]                                   6109.3694    957.583      6.380      0.000    4232.341    7986.398\n",
      "Pays[T.Guatemala]                              -3475.4301    957.583     -3.629      0.000   -5352.459   -1598.402\n",
      "Pays[T.Guinée]                                 -4921.8929    957.583     -5.140      0.000   -6798.921   -3044.864\n",
      "Pays[T.Géorgie]                                -4254.1463    957.583     -4.443      0.000   -6131.175   -2377.118\n",
      "Pays[T.Honduras]                               -2321.6365    957.583     -2.424      0.015   -4198.665    -444.608\n",
      "Pays[T.Hongrie]                                  483.4363    957.583      0.505      0.614   -1393.592    2360.465\n",
      "Pays[T.Inde]                                   -4693.6354    957.583     -4.902      0.000   -6570.664   -2816.607\n",
      "Pays[T.Indonésie]                              -4283.2866    957.583     -4.473      0.000   -6160.315   -2406.258\n",
      "Pays[T.Irak]                                   -3912.3925    957.583     -4.086      0.000   -5789.421   -2035.364\n",
      "Pays[T.Iran République islamique d']             214.7506    957.583      0.224      0.823   -1662.278    2091.779\n",
      "Pays[T.Irlande]                                 1.209e+04    957.583     12.629      0.000    1.02e+04     1.4e+04\n",
      "Pays[T.Islande]                                 2.127e+04    957.583     22.213      0.000    1.94e+04    2.31e+04\n",
      "Pays[T.Israël]                                  5482.4133    957.583      5.725      0.000    3605.385    7359.442\n",
      "Pays[T.Italie]                                  9307.3100    957.583      9.720      0.000    7430.281    1.12e+04\n",
      "Pays[T.Japon]                                   1.182e+04    957.583     12.338      0.000    9938.028    1.37e+04\n",
      "Pays[T.Jordanie]                               -2569.2739    957.583     -2.683      0.007   -4446.302    -692.245\n",
      "Pays[T.Kazakhstan]                             -3378.7551    957.583     -3.528      0.000   -5255.784   -1501.727\n",
      "Pays[T.Kenya]                                  -5098.5848    957.583     -5.324      0.000   -6975.613   -3221.556\n",
      "Pays[T.Kirghizistan]                           -3844.6857    957.583     -4.015      0.000   -5721.714   -1967.657\n",
      "Pays[T.Laos]                                   -4614.4975    957.583     -4.819      0.000   -6491.526   -2737.469\n",
      "Pays[T.Lettonie]                                1146.5697    957.583      1.197      0.231    -730.459    3023.598\n",
      "Pays[T.Libéria]                                -5002.8976    957.583     -5.225      0.000   -6879.926   -3125.869\n",
      "Pays[T.Lituanie]                                1005.7517    957.583      1.050      0.294    -871.277    2882.780\n",
      "Pays[T.Luxembourg]                               1.96e+04    957.583     20.468      0.000    1.77e+04    2.15e+04\n",
      "Pays[T.Macédoine République de]                -1018.5086    957.583     -1.064      0.288   -2895.537     858.520\n",
      "Pays[T.Madagascar]                             -5272.6678    957.583     -5.506      0.000   -7149.696   -3395.639\n",
      "Pays[T.Malaisie]                                 388.4375    957.583      0.406      0.685   -1488.591    2265.466\n",
      "Pays[T.Malawi]                                 -4703.6395    957.583     -4.912      0.000   -6580.668   -2826.611\n",
      "Pays[T.Mali]                                   -4936.8298    957.583     -5.156      0.000   -6813.858   -3059.801\n",
      "Pays[T.Maroc]                                  -3280.3043    957.583     -3.426      0.001   -5157.333   -1403.276\n",
      "Pays[T.Mauritanie]                             -3819.2958    957.583     -3.988      0.000   -5696.324   -1942.267\n",
      "Pays[T.Mexique]                                -1732.0746    957.583     -1.809      0.071   -3609.103     144.954\n",
      "Pays[T.Moldavie]                               -3468.7335    957.583     -3.622      0.000   -5345.762   -1591.705\n",
      "Pays[T.Mongolie]                               -3279.8175    957.583     -3.425      0.001   -5156.846   -1402.789\n",
      "Pays[T.Monténégro]                               929.9942    957.583      0.971      0.331    -947.034    2807.023\n",
      "Pays[T.Mozambique]                             -4925.4244    957.583     -5.144      0.000   -6802.453   -3048.396\n",
      "Pays[T.Nicaragua]                              -3098.5716    957.583     -3.236      0.001   -4975.600   -1221.543\n",
      "Pays[T.Niger]                                  -4967.7755    957.583     -5.188      0.000   -6844.804   -3090.747\n",
      "Pays[T.Nigeria]                                -4926.0495    957.583     -5.144      0.000   -6803.078   -3049.021\n",
      "Pays[T.Norvège]                                 1.687e+04    957.583     17.613      0.000     1.5e+04    1.87e+04\n",
      "Pays[T.Népal]                                  -4703.5132    957.583     -4.912      0.000   -6580.542   -2826.485\n",
      "Pays[T.Ouganda]                                -4630.6986    957.583     -4.836      0.000   -6507.727   -2753.670\n",
      "Pays[T.Pakistan]                               -4730.0656    957.583     -4.940      0.000   -6607.094   -2853.037\n",
      "Pays[T.Panama]                                  -482.7655    957.583     -0.504      0.614   -2359.794    1394.263\n",
      "Pays[T.Paraguay]                               -2339.8239    957.583     -2.443      0.015   -4216.852    -462.795\n",
      "Pays[T.Pays-Bas]                                1.211e+04    957.583     12.647      0.000    1.02e+04     1.4e+04\n",
      "Pays[T.Philippines]                            -4143.8420    957.583     -4.327      0.000   -6020.871   -2266.813\n",
      "Pays[T.Pologne]                                  123.8153    957.583      0.129      0.897   -1753.213    2000.844\n",
      "Pays[T.Portugal]                                4480.7705    957.583      4.679      0.000    2603.742    6357.799\n",
      "Pays[T.Pérou]                                  -2287.3715    957.583     -2.389      0.017   -4164.400    -410.343\n",
      "Pays[T.Roumanie]                               -2299.5677    957.583     -2.401      0.016   -4176.596    -422.539\n",
      "Pays[T.Royaume-Uni]                             1.609e+04    957.583     16.805      0.000    1.42e+04     1.8e+04\n",
      "Pays[T.République centrafricaine]              -4806.6050    957.583     -5.020      0.000   -6683.634   -2929.576\n",
      "Pays[T.République dominicaine]                 -2059.5028    957.583     -2.151      0.032   -3936.531    -182.474\n",
      "Pays[T.République tchèque]                      2617.3885    957.583      2.733      0.006     740.360    4494.417\n",
      "Pays[T.Serbie]                                  -738.1540    957.583     -0.771      0.441   -2615.183    1138.875\n",
      "Pays[T.Slovaquie]                                478.6750    957.583      0.500      0.617   -1398.354    2355.704\n",
      "Pays[T.Slovénie]                                6488.1026    957.583      6.776      0.000    4611.074    8365.131\n",
      "Pays[T.Soudan]                                 -4532.5578    957.583     -4.733      0.000   -6409.586   -2655.529\n",
      "Pays[T.Sri Lanka]                              -3739.9646    957.583     -3.906      0.000   -5616.993   -1862.936\n",
      "Pays[T.Suède]                                   1.057e+04    957.583     11.034      0.000    8689.289    1.24e+04\n",
      "Pays[T.Swaziland]                              -5087.6211    957.583     -5.313      0.000   -6964.650   -3210.592\n",
      "Pays[T.Tadjikistan]                            -3548.0527    957.583     -3.705      0.000   -5425.081   -1671.024\n",
      "Pays[T.Taiwan]                                  1.088e+04    957.583     11.364      0.000    9005.290    1.28e+04\n",
      "Pays[T.Tanzanie]                               -5029.1379    957.583     -5.252      0.000   -6906.166   -3152.109\n",
      "Pays[T.Territoires palestiniens (occupés)]     -4503.8064    957.583     -4.703      0.000   -6380.835   -2626.778\n",
      "Pays[T.Thaïlande]                              -2874.1922    957.583     -3.002      0.003   -4751.221    -997.164\n",
      "Pays[T.Timor-Leste]                            -4890.2945    957.583     -5.107      0.000   -6767.323   -3013.266\n",
      "Pays[T.Turquie]                                  432.5605    957.583      0.452      0.651   -1444.468    2309.589\n",
      "Pays[T.Ukraine]                                -2268.5166    957.583     -2.369      0.018   -4145.545    -391.488\n",
      "Pays[T.Uruguay]                                 -327.1200    957.583     -0.342      0.733   -2204.149    1549.909\n",
      "Pays[T.Venezuela (République bolivarienne du)] -2450.7572    957.583     -2.559      0.011   -4327.786    -573.729\n",
      "Pays[T.Viet Nam]                               -4240.1309    957.583     -4.428      0.000   -6117.159   -2363.102\n",
      "Pays[T.Yémen]                                  -4575.2690    957.583     -4.778      0.000   -6452.298   -2698.240\n",
      "Pays[T.États-Unis]                              1.989e+04    957.583     20.767      0.000     1.8e+04    2.18e+04\n",
      "==============================================================================\n",
      "Omnibus:                    14328.893   Durbin-Watson:                   0.629\n",
      "Prob(Omnibus):                  0.000   Jarque-Bera (JB):          3997366.725\n",
      "Skew:                           6.685   Prob(JB):                         0.00\n",
      "Kurtosis:                      93.757   Cond. No.                         115.\n",
      "==============================================================================\n",
      "\n",
      "Warnings:\n",
      "[1] Standard Errors assume that the covariance matrix of the errors is correctly specified.\n"
     ]
    }
   ],
   "source": [
    "print(anova_pays.summary())"
   ]
  },
  {
   "cell_type": "markdown",
   "metadata": {},
   "source": [
    "p_value < alpha donc le pays a un effet sur le revenu de l'individu"
   ]
  },
  {
   "cell_type": "markdown",
   "metadata": {},
   "source": [
    "puis on fait la même chose mais cette fois ci l'income à une échelle logarithmique et  pareil on trace le graphique boîte à moustache pour voir les distributions des revenus en log par pays "
   ]
  },
  {
   "cell_type": "code",
   "execution_count": 12,
   "metadata": {},
   "outputs": [
    {
     "data": {
      "image/png": "[encoded data removed]",
      "text/plain": [
       "<Figure size 576x576 with 1 Axes>"
      ]
     },
     "metadata": {
      "needs_background": "light"
     },
     "output_type": "display_data"
    }
   ],
   "source": [
    "plt.figure(figsize=(8,8))\n",
    "ax = sns.boxplot(x='Pays', y='ln_y_child', data=df_11)\n",
    "plt.ylabel('Revenu (exprimé en log)', fontsize=12)\n",
    "plt.yticks(fontsize=12)\n",
    "plt.xlabel('pays')\n",
    "plt.xticks(fontsize=12)\n",
    "plt.title(\"Boîtes à moustaches du logarithme des revenus par pays\", fontsize=16)\n",
    "plt.tight_layout()\n",
    "plt.savefig(\"Boîtes à moustaches du logarithme des revenus par pays.png\")"
   ]
  },
  {
   "cell_type": "markdown",
   "metadata": {},
   "source": [
    "il y a moins des outliers et les variances sont plus égalitaires que le premier modèle."
   ]
  },
  {
   "cell_type": "code",
   "execution_count": 13,
   "metadata": {},
   "outputs": [
    {
     "data": {
      "text/html": [
       "<div>\n",
       "<style scoped>\n",
       "    .dataframe tbody tr th:only-of-type {\n",
       "        vertical-align: middle;\n",
       "    }\n",
       "\n",
       "    .dataframe tbody tr th {\n",
       "        vertical-align: top;\n",
       "    }\n",
       "\n",
       "    .dataframe thead th {\n",
       "        text-align: right;\n",
       "    }\n",
       "</style>\n",
       "<table border=\"1\" class=\"dataframe\">\n",
       "  <thead>\n",
       "    <tr style=\"text-align: right;\">\n",
       "      <th></th>\n",
       "      <th>df</th>\n",
       "      <th>sum_sq</th>\n",
       "      <th>mean_sq</th>\n",
       "      <th>F</th>\n",
       "      <th>PR(&gt;F)</th>\n",
       "    </tr>\n",
       "  </thead>\n",
       "  <tbody>\n",
       "    <tr>\n",
       "      <th>Pays</th>\n",
       "      <td>113.0</td>\n",
       "      <td>15891.020388</td>\n",
       "      <td>140.628499</td>\n",
       "      <td>268.015509</td>\n",
       "      <td>0.0</td>\n",
       "    </tr>\n",
       "    <tr>\n",
       "      <th>Residual</th>\n",
       "      <td>11286.0</td>\n",
       "      <td>5921.796268</td>\n",
       "      <td>0.524703</td>\n",
       "      <td>NaN</td>\n",
       "      <td>NaN</td>\n",
       "    </tr>\n",
       "  </tbody>\n",
       "</table>\n",
       "</div>"
      ],
      "text/plain": [
       "               df        sum_sq     mean_sq           F  PR(>F)\n",
       "Pays        113.0  15891.020388  140.628499  268.015509     0.0\n",
       "Residual  11286.0   5921.796268    0.524703         NaN     NaN"
      ]
     },
     "execution_count": 13,
     "metadata": {},
     "output_type": "execute_result"
    }
   ],
   "source": [
    "#H0: Le pays n'a pas d'influence sur le revenu enfant moyen (exprimé en log)\n",
    "anova_pays1 = smf.ols('ln_y_child~Pays', data=df_1).fit(alpha=0.05)\n",
    "sm.stats.anova_lm(anova_pays1,typ=1)\n"
   ]
  },
  {
   "cell_type": "code",
   "execution_count": 14,
   "metadata": {
    "scrolled": true
   },
   "outputs": [
    {
     "name": "stdout",
     "output_type": "stream",
     "text": [
      "                            OLS Regression Results                            \n",
      "==============================================================================\n",
      "Dep. Variable:             ln_y_child   R-squared:                       0.729\n",
      "Model:                            OLS   Adj. R-squared:                  0.726\n",
      "Method:                 Least Squares   F-statistic:                     268.0\n",
      "Date:                Mon, 13 Sep 2021   Prob (F-statistic):               0.00\n",
      "Time:                        23:05:51   Log-Likelihood:                -12443.\n",
      "No. Observations:               11400   AIC:                         2.511e+04\n",
      "Df Residuals:                   11286   BIC:                         2.595e+04\n",
      "Df Model:                         113                                         \n",
      "Covariance Type:            nonrobust                                         \n",
      "==================================================================================================================\n",
      "                                                     coef    std err          t      P>|t|      [0.025      0.975]\n",
      "------------------------------------------------------------------------------------------------------------------\n",
      "Intercept                                          7.7178      0.072    106.545      0.000       7.576       7.860\n",
      "Pays[T.Albanie]                                    0.1340      0.102      1.308      0.191      -0.067       0.335\n",
      "Pays[T.Allemagne]                                  1.9224      0.102     18.766      0.000       1.722       2.123\n",
      "Pays[T.Argentine]                                  0.5843      0.102      5.704      0.000       0.383       0.785\n",
      "Pays[T.Arménie]                                   -0.4358      0.102     -4.254      0.000      -0.637      -0.235\n",
      "Pays[T.Autriche]                                   1.8722      0.102     18.276      0.000       1.671       2.073\n",
      "Pays[T.Azerbaïdjan]                               -0.1139      0.102     -1.111      0.266      -0.315       0.087\n",
      "Pays[T.Bangladesh]                                -0.9732      0.102     -9.500      0.000      -1.174      -0.772\n",
      "Pays[T.Belgique]                                   1.7596      0.102     17.177      0.000       1.559       1.960\n",
      "Pays[T.Bhoutan]                                   -0.6330      0.102     -6.179      0.000      -0.834      -0.432\n",
      "Pays[T.Biélorussie]                                0.4398      0.102      4.293      0.000       0.239       0.641\n",
      "Pays[T.Bolivie]                                   -0.3587      0.102     -3.502      0.000      -0.560      -0.158\n",
      "Pays[T.Bosnie-Herzégovine]                         0.8220      0.102      8.024      0.000       0.621       1.023\n",
      "Pays[T.Brésil]                                     0.2129      0.102      2.078      0.038       0.012       0.414\n",
      "Pays[T.Bulgarie]                                   0.5574      0.102      5.441      0.000       0.357       0.758\n",
      "Pays[T.Burkina Faso]                              -1.1579      0.102    -11.303      0.000      -1.359      -0.957\n",
      "Pays[T.Cambodge]                                  -0.5732      0.102     -5.596      0.000      -0.774      -0.372\n",
      "Pays[T.Cameroun]                                  -0.4722      0.102     -4.609      0.000      -0.673      -0.271\n",
      "Pays[T.Canada]                                     2.0967      0.102     20.468      0.000       1.896       2.298\n",
      "Pays[T.Chili]                                      0.6447      0.102      6.293      0.000       0.444       0.845\n",
      "Pays[T.Chine]                                     -0.3198      0.102     -3.122      0.002      -0.521      -0.119\n",
      "Pays[T.Chypre]                                     1.9122      0.102     18.666      0.000       1.711       2.113\n",
      "Pays[T.Colombie]                                  -0.1614      0.102     -1.575      0.115      -0.362       0.039\n",
      "Pays[T.Congo République démocratique du]          -2.4297      0.102    -23.719      0.000      -2.631      -2.229\n",
      "Pays[T.Corée République de]                        1.6374      0.102     15.984      0.000       1.437       1.838\n",
      "Pays[T.Costa Rica]                                 0.4831      0.102      4.715      0.000       0.282       0.684\n",
      "Pays[T.Croatie]                                    1.0804      0.102     10.546      0.000       0.880       1.281\n",
      "Pays[T.Côte d'Ivoire]                             -2.0232      0.102    -19.750      0.000      -2.224      -1.822\n",
      "Pays[T.Danemark]                                   1.9046      0.102     18.592      0.000       1.704       2.105\n",
      "Pays[T.Egypte]                                    -0.3134      0.102     -3.059      0.002      -0.514      -0.113\n",
      "Pays[T.El Salvador]                               -0.1588      0.102     -1.550      0.121      -0.360       0.042\n",
      "Pays[T.Equateur]                                  -0.0668      0.102     -0.652      0.514      -0.268       0.134\n",
      "Pays[T.Espagne]                                    1.5915      0.102     15.536      0.000       1.391       1.792\n",
      "Pays[T.Estonie]                                    1.0763      0.102     10.507      0.000       0.876       1.277\n",
      "Pays[T.Fidji]                                     -0.3756      0.102     -3.667      0.000      -0.576      -0.175\n",
      "Pays[T.Finlande]                                   1.8525      0.102     18.083      0.000       1.652       2.053\n",
      "Pays[T.France]                                     1.9143      0.102     18.687      0.000       1.714       2.115\n",
      "Pays[T.Fédération de Russie]                       0.8698      0.102      8.491      0.000       0.669       1.071\n",
      "Pays[T.Ghana]                                     -1.4337      0.102    -13.995      0.000      -1.635      -1.233\n",
      "Pays[T.Grèce]                                      1.4605      0.102     14.257      0.000       1.260       1.661\n",
      "Pays[T.Guatemala]                                 -0.6504      0.102     -6.349      0.000      -0.851      -0.450\n",
      "Pays[T.Guinée]                                    -1.4353      0.102    -14.011      0.000      -1.636      -1.235\n",
      "Pays[T.Géorgie]                                   -0.7701      0.102     -7.517      0.000      -0.971      -0.569\n",
      "Pays[T.Honduras]                                  -0.3368      0.102     -3.288      0.001      -0.538      -0.136\n",
      "Pays[T.Hongrie]                                    0.8714      0.102      8.506      0.000       0.671       1.072\n",
      "Pays[T.Inde]                                      -1.0703      0.102    -10.448      0.000      -1.271      -0.869\n",
      "Pays[T.Indonésie]                                 -0.7483      0.102     -7.304      0.000      -0.949      -0.547\n",
      "Pays[T.Irak]                                      -0.4996      0.102     -4.877      0.000      -0.700      -0.299\n",
      "Pays[T.Iran République islamique d']               0.6215      0.102      6.067      0.000       0.421       0.822\n",
      "Pays[T.Irlande]                                    1.9094      0.102     18.639      0.000       1.709       2.110\n",
      "Pays[T.Islande]                                    2.3437      0.102     22.879      0.000       2.143       2.545\n",
      "Pays[T.Israël]                                     1.2660      0.102     12.359      0.000       1.065       1.467\n",
      "Pays[T.Italie]                                     1.7134      0.102     16.726      0.000       1.513       1.914\n",
      "Pays[T.Japon]                                      1.8627      0.102     18.184      0.000       1.662       2.064\n",
      "Pays[T.Jordanie]                                   0.1202      0.102      1.174      0.241      -0.081       0.321\n",
      "Pays[T.Kazakhstan]                                -0.1195      0.102     -1.166      0.244      -0.320       0.081\n",
      "Pays[T.Kenya]                                     -1.6150      0.102    -15.765      0.000      -1.816      -1.414\n",
      "Pays[T.Kirghizistan]                              -0.4401      0.102     -4.296      0.000      -0.641      -0.239\n",
      "Pays[T.Laos]                                      -1.0125      0.102     -9.884      0.000      -1.213      -0.812\n",
      "Pays[T.Lettonie]                                   0.8733      0.102      8.525      0.000       0.672       1.074\n",
      "Pays[T.Libéria]                                   -1.5513      0.102    -15.144      0.000      -1.752      -1.351\n",
      "Pays[T.Lituanie]                                   0.8833      0.102      8.623      0.000       0.682       1.084\n",
      "Pays[T.Luxembourg]                                 2.2757      0.102     22.214      0.000       2.075       2.476\n",
      "Pays[T.Macédoine République de]                    0.4527      0.102      4.419      0.000       0.252       0.654\n",
      "Pays[T.Madagascar]                                -2.2055      0.102    -21.530      0.000      -2.406      -2.005\n",
      "Pays[T.Malaisie]                                   0.6020      0.102      5.877      0.000       0.401       0.803\n",
      "Pays[T.Malawi]                                    -1.2427      0.102    -12.131      0.000      -1.444      -1.042\n",
      "Pays[T.Mali]                                      -1.3711      0.102    -13.384      0.000      -1.572      -1.170\n",
      "Pays[T.Maroc]                                     -0.2359      0.102     -2.303      0.021      -0.437      -0.035\n",
      "Pays[T.Mauritanie]                                -0.5000      0.102     -4.881      0.000      -0.701      -0.299\n",
      "Pays[T.Mexique]                                    0.0634      0.102      0.619      0.536      -0.137       0.264\n",
      "Pays[T.Moldavie]                                  -0.2055      0.102     -2.006      0.045      -0.406      -0.005\n",
      "Pays[T.Mongolie]                                  -0.1705      0.102     -1.664      0.096      -0.371       0.030\n",
      "Pays[T.Monténégro]                                 0.9298      0.102      9.076      0.000       0.729       1.131\n",
      "Pays[T.Mozambique]                                -1.5414      0.102    -15.047      0.000      -1.742      -1.341\n",
      "Pays[T.Nicaragua]                                 -0.3327      0.102     -3.248      0.001      -0.534      -0.132\n",
      "Pays[T.Niger]                                     -1.4689      0.102    -14.339      0.000      -1.670      -1.268\n",
      "Pays[T.Nigeria]                                   -1.5596      0.102    -15.224      0.000      -1.760      -1.359\n",
      "Pays[T.Norvège]                                    2.1819      0.102     21.299      0.000       1.981       2.383\n",
      "Pays[T.Népal]                                     -1.0742      0.102    -10.487      0.000      -1.275      -0.873\n",
      "Pays[T.Ouganda]                                   -1.1269      0.102    -11.000      0.000      -1.328      -0.926\n",
      "Pays[T.Pakistan]                                  -1.0749      0.102    -10.493      0.000      -1.276      -0.874\n",
      "Pays[T.Panama]                                     0.3046      0.102      2.974      0.003       0.104       0.505\n",
      "Pays[T.Paraguay]                                  -0.1253      0.102     -1.223      0.221      -0.326       0.076\n",
      "Pays[T.Pays-Bas]                                   1.9237      0.102     18.778      0.000       1.723       2.124\n",
      "Pays[T.Philippines]                               -0.7450      0.102     -7.272      0.000      -0.946      -0.544\n",
      "Pays[T.Pologne]                                    0.7514      0.102      7.335      0.000       0.551       0.952\n",
      "Pays[T.Portugal]                                   1.2795      0.102     12.490      0.000       1.079       1.480\n",
      "Pays[T.Pérou]                                     -0.0221      0.102     -0.216      0.829      -0.223       0.179\n",
      "Pays[T.Roumanie]                                   0.1319      0.102      1.288      0.198      -0.069       0.333\n",
      "Pays[T.Royaume-Uni]                                2.0641      0.102     20.149      0.000       1.863       2.265\n",
      "Pays[T.République centrafricaine]                 -1.5870      0.102    -15.492      0.000      -1.788      -1.386\n",
      "Pays[T.République dominicaine]                     0.0157      0.102      0.153      0.879      -0.185       0.216\n",
      "Pays[T.République tchèque]                         1.1881      0.102     11.598      0.000       0.987       1.389\n",
      "Pays[T.Serbie]                                     0.6507      0.102      6.352      0.000       0.450       0.852\n",
      "Pays[T.Slovaquie]                                  0.8861      0.102      8.650      0.000       0.685       1.087\n",
      "Pays[T.Slovénie]                                   1.5945      0.102     15.565      0.000       1.394       1.795\n",
      "Pays[T.Soudan]                                    -0.9289      0.102     -9.067      0.000      -1.130      -0.728\n",
      "Pays[T.Sri Lanka]                                 -0.4453      0.102     -4.347      0.000      -0.646      -0.245\n",
      "Pays[T.Suède]                                      1.8610      0.102     18.167      0.000       1.660       2.062\n",
      "Pays[T.Swaziland]                                 -1.8191      0.102    -17.758      0.000      -2.020      -1.618\n",
      "Pays[T.Tadjikistan]                               -0.2363      0.102     -2.307      0.021      -0.437      -0.035\n",
      "Pays[T.Taiwan]                                     1.8323      0.102     17.887      0.000       1.632       2.033\n",
      "Pays[T.Tanzanie]                                  -1.5756      0.102    -15.380      0.000      -1.776      -1.375\n",
      "Pays[T.Territoires palestiniens (occupés)]        -0.9084      0.102     -8.868      0.000      -1.109      -0.708\n",
      "Pays[T.Thaïlande]                                 -0.2087      0.102     -2.038      0.042      -0.410      -0.008\n",
      "Pays[T.Timor-Leste]                               -1.2938      0.102    -12.630      0.000      -1.495      -1.093\n",
      "Pays[T.Turquie]                                    0.6716      0.102      6.556      0.000       0.471       0.872\n",
      "Pays[T.Ukraine]                                    0.2936      0.102      2.866      0.004       0.093       0.494\n",
      "Pays[T.Uruguay]                                    0.4923      0.102      4.806      0.000       0.291       0.693\n",
      "Pays[T.Venezuela (République bolivarienne du)]     0.0077      0.102      0.075      0.940      -0.193       0.208\n",
      "Pays[T.Viet Nam]                                  -0.7244      0.102     -7.072      0.000      -0.925      -0.524\n",
      "Pays[T.Yémen]                                     -1.0021      0.102     -9.782      0.000      -1.203      -0.801\n",
      "Pays[T.États-Unis]                                 2.0757      0.102     20.262      0.000       1.875       2.276\n",
      "==============================================================================\n",
      "Omnibus:                      726.905   Durbin-Watson:                   0.384\n",
      "Prob(Omnibus):                  0.000   Jarque-Bera (JB):             3375.010\n",
      "Skew:                          -0.068   Prob(JB):                         0.00\n",
      "Kurtosis:                       5.662   Cond. No.                         115.\n",
      "==============================================================================\n",
      "\n",
      "Warnings:\n",
      "[1] Standard Errors assume that the covariance matrix of the errors is correctly specified.\n"
     ]
    }
   ],
   "source": [
    "print(anova_pays1.summary())"
   ]
  },
  {
   "cell_type": "markdown",
   "metadata": {},
   "source": [
    "ce modèle est plus performant que l’autre tel que la variance expliquée égale à 72.9%"
   ]
  },
  {
   "cell_type": "markdown",
   "metadata": {},
   "source": [
    "toujours  pour prédire le revenu de chaque individu, en incluant cette fois ci comme variables explicatives le revenu moyen du pays de l’individu et l’indice de Gini du pays de l’individu"
   ]
  },
  {
   "cell_type": "code",
   "execution_count": 15,
   "metadata": {},
   "outputs": [],
   "source": [
    "df_2=df[['y_child','ln_y_child','indice_gini','mj','ln_mj']]\n"
   ]
  },
  {
   "cell_type": "code",
   "execution_count": 16,
   "metadata": {},
   "outputs": [
    {
     "name": "stdout",
     "output_type": "stream",
     "text": [
      "                            OLS Regression Results                            \n",
      "==============================================================================\n",
      "Dep. Variable:                y_child   R-squared:                       0.494\n",
      "Model:                            OLS   Adj. R-squared:                  0.494\n",
      "Method:                 Least Squares   F-statistic:                 2.786e+06\n",
      "Date:                Mon, 13 Sep 2021   Prob (F-statistic):               0.00\n",
      "Time:                        23:05:55   Log-Likelihood:            -5.8336e+07\n",
      "No. Observations:             5700000   AIC:                         1.167e+08\n",
      "Df Residuals:                 5699997   BIC:                         1.167e+08\n",
      "Df Model:                           2                                         \n",
      "Covariance Type:            nonrobust                                         \n",
      "===============================================================================\n",
      "                  coef    std err          t      P>|t|      [0.025      0.975]\n",
      "-------------------------------------------------------------------------------\n",
      "Intercept   -3.615e-09     15.287  -2.36e-10      1.000     -29.962      29.962\n",
      "indice_gini  1.065e-11      0.366   2.91e-11      1.000      -0.717       0.717\n",
      "mj              1.0000      0.000   2216.123      0.000       0.999       1.001\n",
      "==============================================================================\n",
      "Omnibus:                  7136854.298   Durbin-Watson:                   0.001\n",
      "Prob(Omnibus):                  0.000   Jarque-Bera (JB):       1998683362.314\n",
      "Skew:                           6.685   Prob(JB):                         0.00\n",
      "Kurtosis:                      93.757   Cond. No.                     4.91e+04\n",
      "==============================================================================\n",
      "\n",
      "Warnings:\n",
      "[1] Standard Errors assume that the covariance matrix of the errors is correctly specified.\n",
      "[2] The condition number is large, 4.91e+04. This might indicate that there are\n",
      "strong multicollinearity or other numerical problems.\n"
     ]
    }
   ],
   "source": [
    "reg = smf.ols('y_child ~ indice_gini + mj', data=df_2).fit(alpha=0.05)\n",
    "print(reg.summary())"
   ]
  },
  {
   "cell_type": "markdown",
   "metadata": {},
   "source": [
    "on a le p value inférieur à alpha donc on peut dire que l’indice de gini et le revenu moyen ont un effet sur  le revenu de l’individu et on a le pourcentage de la variance expliqué par ce modèle égale à 49.4% Ce qui est cohérent avec le R² obtenu avec la variable explicative pays"
   ]
  },
  {
   "cell_type": "markdown",
   "metadata": {},
   "source": [
    "pour comprendre l’influence de chaque variable explicative on a essayé de décomposer la variance en utilisant la table d’analyse de variance"
   ]
  },
  {
   "cell_type": "code",
   "execution_count": 17,
   "metadata": {},
   "outputs": [
    {
     "data": {
      "text/html": [
       "<div>\n",
       "<style scoped>\n",
       "    .dataframe tbody tr th:only-of-type {\n",
       "        vertical-align: middle;\n",
       "    }\n",
       "\n",
       "    .dataframe tbody tr th {\n",
       "        vertical-align: top;\n",
       "    }\n",
       "\n",
       "    .dataframe thead th {\n",
       "        text-align: right;\n",
       "    }\n",
       "</style>\n",
       "<table border=\"1\" class=\"dataframe\">\n",
       "  <thead>\n",
       "    <tr style=\"text-align: right;\">\n",
       "      <th></th>\n",
       "      <th>df</th>\n",
       "      <th>sum_sq</th>\n",
       "      <th>mean_sq</th>\n",
       "      <th>F</th>\n",
       "      <th>PR(&gt;F)</th>\n",
       "    </tr>\n",
       "  </thead>\n",
       "  <tbody>\n",
       "    <tr>\n",
       "      <th>indice_gini</th>\n",
       "      <td>1.0</td>\n",
       "      <td>2.995610e+13</td>\n",
       "      <td>2.995610e+13</td>\n",
       "      <td>6.599749e+05</td>\n",
       "      <td>0.0</td>\n",
       "    </tr>\n",
       "    <tr>\n",
       "      <th>mj</th>\n",
       "      <td>1.0</td>\n",
       "      <td>2.229182e+14</td>\n",
       "      <td>2.229182e+14</td>\n",
       "      <td>4.911201e+06</td>\n",
       "      <td>0.0</td>\n",
       "    </tr>\n",
       "    <tr>\n",
       "      <th>Residual</th>\n",
       "      <td>5699997.0</td>\n",
       "      <td>2.587215e+14</td>\n",
       "      <td>4.538976e+07</td>\n",
       "      <td>NaN</td>\n",
       "      <td>NaN</td>\n",
       "    </tr>\n",
       "  </tbody>\n",
       "</table>\n",
       "</div>"
      ],
      "text/plain": [
       "                    df        sum_sq       mean_sq             F  PR(>F)\n",
       "indice_gini        1.0  2.995610e+13  2.995610e+13  6.599749e+05     0.0\n",
       "mj                 1.0  2.229182e+14  2.229182e+14  4.911201e+06     0.0\n",
       "Residual     5699997.0  2.587215e+14  4.538976e+07           NaN     NaN"
      ]
     },
     "execution_count": 17,
     "metadata": {},
     "output_type": "execute_result"
    }
   ],
   "source": [
    "l=sm.stats.anova_lm(reg,typ=1)\n",
    "l"
   ]
  },
  {
   "cell_type": "code",
   "execution_count": 18,
   "metadata": {},
   "outputs": [
    {
     "data": {
      "text/plain": [
       "(0.43573112913749223, 0.05855423505941592)"
      ]
     },
     "execution_count": 18,
     "metadata": {},
     "output_type": "execute_result"
    }
   ],
   "source": [
    "# Calcul du R² pour les variables indice de gini et le revenu moy \n",
    "SCE_ind = l.iloc[0,1]\n",
    "SCE_mj=l.iloc[1,1]\n",
    "SCR=l.iloc[2,1]\n",
    "R_ind=SCE_ind/(SCE_ind+SCE_mj+SCR)\n",
    "R_mj=SCE_mj/(SCE_mj+SCE_ind+SCR)\n",
    "R_mj, R_ind  "
   ]
  },
  {
   "cell_type": "markdown",
   "metadata": {},
   "source": [
    "la variable indice_gini explique 5% de la variance de la variable y_child \\\n",
    "la variable revenu moyen qui explique le plus de la variabilité de revenu de l’individu par 43.5%"
   ]
  },
  {
   "cell_type": "code",
   "execution_count": 19,
   "metadata": {},
   "outputs": [
    {
     "name": "stdout",
     "output_type": "stream",
     "text": [
      "                            OLS Regression Results                            \n",
      "==============================================================================\n",
      "Dep. Variable:             ln_y_child   R-squared:                       0.727\n",
      "Model:                            OLS   Adj. R-squared:                  0.727\n",
      "Method:                 Least Squares   F-statistic:                 7.606e+06\n",
      "Date:                Mon, 13 Sep 2021   Prob (F-statistic):               0.00\n",
      "Time:                        23:05:59   Log-Likelihood:            -6.2327e+06\n",
      "No. Observations:             5700000   AIC:                         1.247e+07\n",
      "Df Residuals:                 5699997   BIC:                         1.247e+07\n",
      "Df Model:                           2                                         \n",
      "Covariance Type:            nonrobust                                         \n",
      "===============================================================================\n",
      "                  coef    std err          t      P>|t|      [0.025      0.975]\n",
      "-------------------------------------------------------------------------------\n",
      "Intercept       0.4924      0.003    164.410      0.000       0.486       0.498\n",
      "indice_gini    -0.0174   3.83e-05   -452.952      0.000      -0.017      -0.017\n",
      "ln_mj           0.9872      0.000   3595.598      0.000       0.987       0.988\n",
      "==============================================================================\n",
      "Omnibus:                   375400.245   Durbin-Watson:                   0.001\n",
      "Prob(Omnibus):                  0.000   Jarque-Bera (JB):          1770191.817\n",
      "Skew:                          -0.106   Prob(JB):                         0.00\n",
      "Kurtosis:                       5.722   Cond. No.                         393.\n",
      "==============================================================================\n",
      "\n",
      "Warnings:\n",
      "[1] Standard Errors assume that the covariance matrix of the errors is correctly specified.\n"
     ]
    }
   ],
   "source": [
    "reg1 = smf.ols('ln_y_child ~ indice_gini + ln_mj', data=df_2).fit(alpha=0.05)\n",
    "print(reg1.summary())"
   ]
  },
  {
   "cell_type": "markdown",
   "metadata": {},
   "source": [
    "avec les revenus en logarithme on a trouvé que le modèle explique 72.7% de la variance de revenu de l’individu donc il est plus performant que l’autre modèle par contre il a presque les mm performances de l’anova du logarithme de revenu. \\ \n",
    "toutes les variables sont sgnificativement différentes de zéro"
   ]
  },
  {
   "cell_type": "code",
   "execution_count": 20,
   "metadata": {},
   "outputs": [
    {
     "data": {
      "text/html": [
       "<div>\n",
       "<style scoped>\n",
       "    .dataframe tbody tr th:only-of-type {\n",
       "        vertical-align: middle;\n",
       "    }\n",
       "\n",
       "    .dataframe tbody tr th {\n",
       "        vertical-align: top;\n",
       "    }\n",
       "\n",
       "    .dataframe thead th {\n",
       "        text-align: right;\n",
       "    }\n",
       "</style>\n",
       "<table border=\"1\" class=\"dataframe\">\n",
       "  <thead>\n",
       "    <tr style=\"text-align: right;\">\n",
       "      <th></th>\n",
       "      <th>df</th>\n",
       "      <th>sum_sq</th>\n",
       "      <th>mean_sq</th>\n",
       "      <th>F</th>\n",
       "      <th>PR(&gt;F)</th>\n",
       "    </tr>\n",
       "  </thead>\n",
       "  <tbody>\n",
       "    <tr>\n",
       "      <th>indice_gini</th>\n",
       "      <td>1.0</td>\n",
       "      <td>1.190987e+06</td>\n",
       "      <td>1.190987e+06</td>\n",
       "      <td>2.283594e+06</td>\n",
       "      <td>0.0</td>\n",
       "    </tr>\n",
       "    <tr>\n",
       "      <th>ln_mj</th>\n",
       "      <td>1.0</td>\n",
       "      <td>6.742643e+06</td>\n",
       "      <td>6.742643e+06</td>\n",
       "      <td>1.292832e+07</td>\n",
       "      <td>0.0</td>\n",
       "    </tr>\n",
       "    <tr>\n",
       "      <th>Residual</th>\n",
       "      <td>5699997.0</td>\n",
       "      <td>2.972779e+06</td>\n",
       "      <td>5.215404e-01</td>\n",
       "      <td>NaN</td>\n",
       "      <td>NaN</td>\n",
       "    </tr>\n",
       "  </tbody>\n",
       "</table>\n",
       "</div>"
      ],
      "text/plain": [
       "                    df        sum_sq       mean_sq             F  PR(>F)\n",
       "indice_gini        1.0  1.190987e+06  1.190987e+06  2.283594e+06     0.0\n",
       "ln_mj              1.0  6.742643e+06  6.742643e+06  1.292832e+07     0.0\n",
       "Residual     5699997.0  2.972779e+06  5.215404e-01           NaN     NaN"
      ]
     },
     "execution_count": 20,
     "metadata": {},
     "output_type": "execute_result"
    }
   ],
   "source": [
    "l1=sm.stats.anova_lm(reg1,typ=1)\n",
    "l1"
   ]
  },
  {
   "cell_type": "code",
   "execution_count": 21,
   "metadata": {},
   "outputs": [
    {
     "data": {
      "text/plain": [
       "(0.6182276379913569, 0.10920062863460257)"
      ]
     },
     "execution_count": 21,
     "metadata": {},
     "output_type": "execute_result"
    }
   ],
   "source": [
    "# Calcul du R² pour les variables indice de gini et le revenu moy \n",
    "SCE_ind = l1.iloc[0,1]\n",
    "SCE_mj=l1.iloc[1,1]\n",
    "SCR=l1.iloc[2,1]\n",
    "R_ind=SCE_ind/(SCE_ind+SCE_mj+SCR)\n",
    "R_ln_mj=SCE_mj/(SCE_mj+SCE_ind+SCR)\n",
    "R_ln_mj, R_ind "
   ]
  },
  {
   "cell_type": "markdown",
   "metadata": {},
   "source": [
    "la variable revenu moy qui explique  plus la variabilité de revenu de l'individu par 61.8%"
   ]
  },
  {
   "cell_type": "markdown",
   "metadata": {},
   "source": [
    "pour améliorer notre modèle on  a rajouté la classe de revenu des parents"
   ]
  },
  {
   "cell_type": "code",
   "execution_count": 22,
   "metadata": {},
   "outputs": [],
   "source": [
    "df_3=df[['Pays','y_child','ln_y_child','indice_gini','mj','ln_mj','c_i_parents']]"
   ]
  },
  {
   "cell_type": "code",
   "execution_count": 23,
   "metadata": {},
   "outputs": [
    {
     "name": "stdout",
     "output_type": "stream",
     "text": [
      "                            OLS Regression Results                            \n",
      "==============================================================================\n",
      "Dep. Variable:                y_child   R-squared:                       0.520\n",
      "Model:                            OLS   Adj. R-squared:                  0.520\n",
      "Method:                 Least Squares   F-statistic:                 2.059e+06\n",
      "Date:                Mon, 13 Sep 2021   Prob (F-statistic):               0.00\n",
      "Time:                        23:06:05   Log-Likelihood:            -5.8187e+07\n",
      "No. Observations:             5700000   AIC:                         1.164e+08\n",
      "Df Residuals:                 5699996   BIC:                         1.164e+08\n",
      "Df Model:                           3                                         \n",
      "Covariance Type:            nonrobust                                         \n",
      "===============================================================================\n",
      "                  coef    std err          t      P>|t|      [0.025      0.975]\n",
      "-------------------------------------------------------------------------------\n",
      "Intercept   -2661.3972     15.649   -170.064      0.000   -2692.069   -2630.725\n",
      "indice_gini  1.161e-11      0.356   3.26e-11      1.000      -0.699       0.699\n",
      "mj              1.0000      0.000   2274.875      0.000       0.999       1.001\n",
      "c_i_parents    52.7009      0.095    553.386      0.000      52.514      52.888\n",
      "==============================================================================\n",
      "Omnibus:                  7242876.041   Durbin-Watson:                   0.003\n",
      "Prob(Omnibus):                  0.000   Jarque-Bera (JB):       2204176032.979\n",
      "Skew:                           6.845   Prob(JB):                         0.00\n",
      "Kurtosis:                      98.359   Cond. No.                     5.16e+04\n",
      "==============================================================================\n",
      "\n",
      "Warnings:\n",
      "[1] Standard Errors assume that the covariance matrix of the errors is correctly specified.\n",
      "[2] The condition number is large, 5.16e+04. This might indicate that there are\n",
      "strong multicollinearity or other numerical problems.\n"
     ]
    }
   ],
   "source": [
    "reg2 = smf.ols('y_child ~ indice_gini + mj+c_i_parents', data=df_3).fit(alpha=0.05)\n",
    "print(reg2.summary())"
   ]
  },
  {
   "cell_type": "markdown",
   "metadata": {},
   "source": [
    "le modèle monte en performance "
   ]
  },
  {
   "cell_type": "code",
   "execution_count": 24,
   "metadata": {},
   "outputs": [
    {
     "data": {
      "text/html": [
       "<div>\n",
       "<style scoped>\n",
       "    .dataframe tbody tr th:only-of-type {\n",
       "        vertical-align: middle;\n",
       "    }\n",
       "\n",
       "    .dataframe tbody tr th {\n",
       "        vertical-align: top;\n",
       "    }\n",
       "\n",
       "    .dataframe thead th {\n",
       "        text-align: right;\n",
       "    }\n",
       "</style>\n",
       "<table border=\"1\" class=\"dataframe\">\n",
       "  <thead>\n",
       "    <tr style=\"text-align: right;\">\n",
       "      <th></th>\n",
       "      <th>df</th>\n",
       "      <th>sum_sq</th>\n",
       "      <th>mean_sq</th>\n",
       "      <th>F</th>\n",
       "      <th>PR(&gt;F)</th>\n",
       "    </tr>\n",
       "  </thead>\n",
       "  <tbody>\n",
       "    <tr>\n",
       "      <th>indice_gini</th>\n",
       "      <td>1.0</td>\n",
       "      <td>2.995610e+13</td>\n",
       "      <td>2.995610e+13</td>\n",
       "      <td>6.954324e+05</td>\n",
       "      <td>0.0</td>\n",
       "    </tr>\n",
       "    <tr>\n",
       "      <th>mj</th>\n",
       "      <td>1.0</td>\n",
       "      <td>2.229182e+14</td>\n",
       "      <td>2.229182e+14</td>\n",
       "      <td>5.175057e+06</td>\n",
       "      <td>0.0</td>\n",
       "    </tr>\n",
       "    <tr>\n",
       "      <th>c_i_parents</th>\n",
       "      <td>1.0</td>\n",
       "      <td>1.319128e+13</td>\n",
       "      <td>1.319128e+13</td>\n",
       "      <td>3.062361e+05</td>\n",
       "      <td>0.0</td>\n",
       "    </tr>\n",
       "    <tr>\n",
       "      <th>Residual</th>\n",
       "      <td>5699996.0</td>\n",
       "      <td>2.455302e+14</td>\n",
       "      <td>4.307550e+07</td>\n",
       "      <td>NaN</td>\n",
       "      <td>NaN</td>\n",
       "    </tr>\n",
       "  </tbody>\n",
       "</table>\n",
       "</div>"
      ],
      "text/plain": [
       "                    df        sum_sq       mean_sq             F  PR(>F)\n",
       "indice_gini        1.0  2.995610e+13  2.995610e+13  6.954324e+05     0.0\n",
       "mj                 1.0  2.229182e+14  2.229182e+14  5.175057e+06     0.0\n",
       "c_i_parents        1.0  1.319128e+13  1.319128e+13  3.062361e+05     0.0\n",
       "Residual     5699996.0  2.455302e+14  4.307550e+07           NaN     NaN"
      ]
     },
     "execution_count": 24,
     "metadata": {},
     "output_type": "execute_result"
    }
   ],
   "source": [
    "l2=sm.stats.anova_lm(reg2,typ=1)\n",
    "l2"
   ]
  },
  {
   "cell_type": "code",
   "execution_count": 25,
   "metadata": {},
   "outputs": [
    {
     "data": {
      "text/plain": [
       "(0.43573112913749695, 0.05855423505941655, 0.025784566912814683)"
      ]
     },
     "execution_count": 25,
     "metadata": {},
     "output_type": "execute_result"
    }
   ],
   "source": [
    "# Calcul du R² pour les variables indice de gini, le revenu moy et la classe de revenus des parents \n",
    "SCE_ind = l2.iloc[0,1]\n",
    "SCE_mj=l2.iloc[1,1]\n",
    "SCE_cl=l2.iloc[2,1]\n",
    "SCR=l2.iloc[3,1]\n",
    "R_ind=SCE_ind/(SCE_ind+SCE_mj+SCE_cl+SCR)\n",
    "R_mj=SCE_mj/(SCE_ind+SCE_mj+SCE_cl+SCR)\n",
    "R_cl=SCE_cl/(SCE_ind+SCE_mj+SCE_cl+SCR)\n",
    "R_mj,R_ind, R_cl"
   ]
  },
  {
   "cell_type": "markdown",
   "metadata": {},
   "source": [
    "la variable classe de revenu des parent explique 2.5% de la variance"
   ]
  },
  {
   "cell_type": "code",
   "execution_count": 26,
   "metadata": {},
   "outputs": [
    {
     "name": "stdout",
     "output_type": "stream",
     "text": [
      "                            OLS Regression Results                            \n",
      "==============================================================================\n",
      "Dep. Variable:             ln_y_child   R-squared:                       0.783\n",
      "Model:                            OLS   Adj. R-squared:                  0.783\n",
      "Method:                 Least Squares   F-statistic:                 6.837e+06\n",
      "Date:                Mon, 13 Sep 2021   Prob (F-statistic):               0.00\n",
      "Time:                        23:06:11   Log-Likelihood:            -5.5890e+06\n",
      "No. Observations:             5700000   AIC:                         1.118e+07\n",
      "Df Residuals:                 5699996   BIC:                         1.118e+07\n",
      "Df Model:                           3                                         \n",
      "Covariance Type:            nonrobust                                         \n",
      "===============================================================================\n",
      "                  coef    std err          t      P>|t|      [0.025      0.975]\n",
      "-------------------------------------------------------------------------------\n",
      "Intercept      -0.0757      0.003    -27.878      0.000      -0.081      -0.070\n",
      "indice_gini    -0.0174   3.42e-05   -507.105      0.000      -0.017      -0.017\n",
      "ln_mj           0.9872      0.000   4025.469      0.000       0.987       0.988\n",
      "c_i_parents     0.0112   9.36e-06   1201.831      0.000       0.011       0.011\n",
      "==============================================================================\n",
      "Omnibus:                   394714.902   Durbin-Watson:                   0.007\n",
      "Prob(Omnibus):                  0.000   Jarque-Bera (JB):          1855872.978\n",
      "Skew:                          -0.155   Prob(JB):                         0.00\n",
      "Kurtosis:                       5.778   Cond. No.                         686.\n",
      "==============================================================================\n",
      "\n",
      "Warnings:\n",
      "[1] Standard Errors assume that the covariance matrix of the errors is correctly specified.\n"
     ]
    }
   ],
   "source": [
    "reg3 = smf.ols('ln_y_child ~ indice_gini + ln_mj+c_i_parents', data=df_3).fit(alpha=0.05)\n",
    "print(reg3.summary())"
   ]
  },
  {
   "cell_type": "code",
   "execution_count": 27,
   "metadata": {},
   "outputs": [
    {
     "data": {
      "text/html": [
       "<div>\n",
       "<style scoped>\n",
       "    .dataframe tbody tr th:only-of-type {\n",
       "        vertical-align: middle;\n",
       "    }\n",
       "\n",
       "    .dataframe tbody tr th {\n",
       "        vertical-align: top;\n",
       "    }\n",
       "\n",
       "    .dataframe thead th {\n",
       "        text-align: right;\n",
       "    }\n",
       "</style>\n",
       "<table border=\"1\" class=\"dataframe\">\n",
       "  <thead>\n",
       "    <tr style=\"text-align: right;\">\n",
       "      <th></th>\n",
       "      <th>df</th>\n",
       "      <th>sum_sq</th>\n",
       "      <th>mean_sq</th>\n",
       "      <th>F</th>\n",
       "      <th>PR(&gt;F)</th>\n",
       "    </tr>\n",
       "  </thead>\n",
       "  <tbody>\n",
       "    <tr>\n",
       "      <th>indice_gini</th>\n",
       "      <td>1.0</td>\n",
       "      <td>1.190987e+06</td>\n",
       "      <td>1.190987e+06</td>\n",
       "      <td>2.862265e+06</td>\n",
       "      <td>0.0</td>\n",
       "    </tr>\n",
       "    <tr>\n",
       "      <th>ln_mj</th>\n",
       "      <td>1.0</td>\n",
       "      <td>6.742643e+06</td>\n",
       "      <td>6.742643e+06</td>\n",
       "      <td>1.620440e+07</td>\n",
       "      <td>0.0</td>\n",
       "    </tr>\n",
       "    <tr>\n",
       "      <th>c_i_parents</th>\n",
       "      <td>1.0</td>\n",
       "      <td>6.010135e+05</td>\n",
       "      <td>6.010135e+05</td>\n",
       "      <td>1.444399e+06</td>\n",
       "      <td>0.0</td>\n",
       "    </tr>\n",
       "    <tr>\n",
       "      <th>Residual</th>\n",
       "      <td>5699996.0</td>\n",
       "      <td>2.371765e+06</td>\n",
       "      <td>4.160994e-01</td>\n",
       "      <td>NaN</td>\n",
       "      <td>NaN</td>\n",
       "    </tr>\n",
       "  </tbody>\n",
       "</table>\n",
       "</div>"
      ],
      "text/plain": [
       "                    df        sum_sq       mean_sq             F  PR(>F)\n",
       "indice_gini        1.0  1.190987e+06  1.190987e+06  2.862265e+06     0.0\n",
       "ln_mj              1.0  6.742643e+06  6.742643e+06  1.620440e+07     0.0\n",
       "c_i_parents        1.0  6.010135e+05  6.010135e+05  1.444399e+06     0.0\n",
       "Residual     5699996.0  2.371765e+06  4.160994e-01           NaN     NaN"
      ]
     },
     "execution_count": 27,
     "metadata": {},
     "output_type": "execute_result"
    }
   ],
   "source": [
    "l3=sm.stats.anova_lm(reg3,typ=1)\n",
    "l3"
   ]
  },
  {
   "cell_type": "code",
   "execution_count": 28,
   "metadata": {},
   "outputs": [
    {
     "data": {
      "text/plain": [
       "(0.6182276379913639, 0.10920062863460381, 0.055106456022354394)"
      ]
     },
     "execution_count": 28,
     "metadata": {},
     "output_type": "execute_result"
    }
   ],
   "source": [
    "# Calcul du R² pour les variables indice de gini, le revenu moy (log) et la classe de revenus des parents \n",
    "SCE_ind = l3.iloc[0,1]\n",
    "SCE_ln_mj=l3.iloc[1,1]\n",
    "SCE_cl=l3.iloc[2,1]\n",
    "SCR=l3.iloc[3,1]\n",
    "R_ind=SCE_ind/(SCE_ind+SCE_ln_mj+SCE_cl+SCR)\n",
    "R_ln_mj=SCE_ln_mj/(SCE_ind+SCE_ln_mj+SCE_cl+SCR)\n",
    "R_cl=SCE_cl/(SCE_ind+SCE_ln_mj+SCE_cl+SCR)\n",
    "R_ln_mj,R_ind, R_cl"
   ]
  },
  {
   "cell_type": "markdown",
   "metadata": {},
   "source": [
    "le meilleur modèle qu’on a testé il explique 78.3% de la variance donc il reste que  21.7% de la variance qui n’est pas expliqué.\\\n",
    "toutes les variables sont significativement différentes de zéro \\\n",
    "la variable classe des revenu des parents explique 5.5% \n"
   ]
  },
  {
   "cell_type": "markdown",
   "metadata": {},
   "source": [
    " Nous allons ici réaliser les tests à un niveau  𝛼=5 % :"
   ]
  },
  {
   "cell_type": "code",
   "execution_count": 29,
   "metadata": {},
   "outputs": [],
   "source": [
    "alpha = 0.05"
   ]
  },
  {
   "cell_type": "markdown",
   "metadata": {},
   "source": [
    "Récupérons  𝑛 , le nombre d'individus de l'échantillon, et  𝑝 , le nombre de variables."
   ]
  },
  {
   "cell_type": "code",
   "execution_count": 30,
   "metadata": {},
   "outputs": [],
   "source": [
    "n = df.shape[0]\n",
    "p = 4"
   ]
  },
  {
   "cell_type": "markdown",
   "metadata": {},
   "source": [
    "Nous allons mener des analyses sur les valeurs atypiques et/ou influentes."
   ]
  },
  {
   "cell_type": "markdown",
   "metadata": {},
   "source": [
    "### Les leviers"
   ]
  },
  {
   "cell_type": "markdown",
   "metadata": {},
   "source": [
    "On peut calculer les leviers comme ceci, en sachant que le seuil des leviers est de  2∗𝑝/𝑛 ."
   ]
  },
  {
   "cell_type": "code",
   "execution_count": 31,
   "metadata": {},
   "outputs": [
    {
     "data": {
      "text/plain": [
       "1.4035087719298246e-06"
      ]
     },
     "execution_count": 31,
     "metadata": {},
     "output_type": "execute_result"
    }
   ],
   "source": [
    "seuil_levier = 2*p/n\n",
    "seuil_levier"
   ]
  },
  {
   "cell_type": "code",
   "execution_count": 32,
   "metadata": {},
   "outputs": [
    {
     "name": "stderr",
     "output_type": "stream",
     "text": [
      "<ipython-input-32-d4443f0d1b5b>:1: SettingWithCopyWarning: \n",
      "A value is trying to be set on a copy of a slice from a DataFrame.\n",
      "Try using .loc[row_indexer,col_indexer] = value instead\n",
      "\n",
      "See the caveats in the documentation: https://pandas.pydata.org/pandas-docs/stable/user_guide/indexing.html#returning-a-view-versus-a-copy\n",
      "  df_3['levier'] = reg3.get_influence().hat_matrix_diag\n"
     ]
    },
    {
     "name": "stdout",
     "output_type": "stream",
     "text": [
      "124000\n"
     ]
    }
   ],
   "source": [
    "df_3['levier'] = reg3.get_influence().hat_matrix_diag\n",
    "levier=df_3.loc[df_3['levier'] > seuil_levier, :]\n",
    "print(len(levier))"
   ]
  },
  {
   "cell_type": "code",
   "execution_count": 33,
   "metadata": {},
   "outputs": [],
   "source": [
    "df_4 = df_3.groupby(['Pays', 'mj', 'indice_gini', 'ln_mj']).mean()\n",
    "df_4.reset_index(inplace=True)"
   ]
  },
  {
   "cell_type": "code",
   "execution_count": 34,
   "metadata": {},
   "outputs": [
    {
     "data": {
      "image/png": "[encoded data removed]",
      "text/plain": [
       "<Figure size 1296x576 with 1 Axes>"
      ]
     },
     "metadata": {
      "needs_background": "light"
     },
     "output_type": "display_data"
    }
   ],
   "source": [
    "# Représentation des leviers\n",
    "plt.figure(figsize=(18,8))\n",
    "plt.bar(df_4['Pays'], df_4['levier'])\n",
    "plt.xticks(np.arange(0, 114),rotation='vertical')\n",
    "plt.title('Représentation des leviers', fontsize=16)\n",
    "plt.xlabel('Pays', fontsize=14)\n",
    "plt.ylabel('Leviers', fontsize=14)\n",
    "plt.plot([0, 114], [seuil_levier, seuil_levier], color='r')\n",
    "plt.tight_layout()\n",
    "plt.savefig('Représentation des leviers.png')"
   ]
  },
  {
   "cell_type": "markdown",
   "metadata": {},
   "source": [
    "Pour sélectionner les pays pour lesquels le levier est supérieur au seuil, on exécute la ligne suivante :"
   ]
  },
  {
   "cell_type": "code",
   "execution_count": 35,
   "metadata": {},
   "outputs": [
    {
     "data": {
      "text/plain": [
       "0    Afrique du Sud\n",
       "Name: Pays, dtype: object"
      ]
     },
     "execution_count": 35,
     "metadata": {},
     "output_type": "execute_result"
    }
   ],
   "source": [
    "df_4.loc[df_4['levier'] > seuil_levier, 'Pays']"
   ]
  },
  {
   "cell_type": "markdown",
   "metadata": {},
   "source": [
    "### Les résidus studentisés"
   ]
  },
  {
   "cell_type": "markdown",
   "metadata": {},
   "source": [
    "Si l'on souhaite maintenant calculer les résidus studentisés, nous écrivons ceci, sachant que le seuil pour les résidus studentisés est une loi de Student à n-p-1 degrés de liberté :"
   ]
  },
  {
   "cell_type": "code",
   "execution_count": 36,
   "metadata": {},
   "outputs": [
    {
     "name": "stderr",
     "output_type": "stream",
     "text": [
      "<ipython-input-36-1c954db0c8b0>:1: SettingWithCopyWarning: \n",
      "A value is trying to be set on a copy of a slice from a DataFrame.\n",
      "Try using .loc[row_indexer,col_indexer] = value instead\n",
      "\n",
      "See the caveats in the documentation: https://pandas.pydata.org/pandas-docs/stable/user_guide/indexing.html#returning-a-view-versus-a-copy\n",
      "  df_3['rstudent'] = reg3.get_influence().resid_studentized_internal\n"
     ]
    },
    {
     "data": {
      "text/plain": [
       "1.959964400728441"
      ]
     },
     "execution_count": 36,
     "metadata": {},
     "output_type": "execute_result"
    }
   ],
   "source": [
    "df_3['rstudent'] = reg3.get_influence().resid_studentized_internal\n",
    "seuil_rstudent = t.ppf(1-alpha/2,n-p-1)\n",
    "seuil_rstudent"
   ]
  },
  {
   "cell_type": "code",
   "execution_count": 37,
   "metadata": {},
   "outputs": [
    {
     "name": "stdout",
     "output_type": "stream",
     "text": [
      "158391\n"
     ]
    }
   ],
   "source": [
    "rstudent=df_3.loc[df_3['rstudent'] >abs(seuil_rstudent), :]\n",
    "print(len(rstudent))\n"
   ]
  },
  {
   "cell_type": "code",
   "execution_count": 38,
   "metadata": {
    "scrolled": false
   },
   "outputs": [
    {
     "data": {
      "image/png": "[encoded data removed]",
      "text/plain": [
       "<Figure size 1296x576 with 1 Axes>"
      ]
     },
     "metadata": {
      "needs_background": "light"
     },
     "output_type": "display_data"
    }
   ],
   "source": [
    "df_5=df_3.groupby(['Pays', 'mj', 'indice_gini', 'ln_mj']).mean()\n",
    "df_5.reset_index(inplace=True)\n",
    "plt.figure(figsize=(18,8))\n",
    "plt.bar(df_5['Pays'], df_5['rstudent'])\n",
    "plt.xticks(df_5['Pays'],rotation='vertical')\n",
    "plt.xlabel('Pays', fontsize=14)\n",
    "plt.ylabel('Résidus studentisés', fontsize=14)\n",
    "plt.title('Représentation des résidus studentisés', fontsize=16)\n",
    "plt.plot([0, 115], [seuil_rstudent, seuil_rstudent], color='r')\n",
    "plt.plot([0, 115], [-seuil_rstudent, -seuil_rstudent], color='r')\n",
    "plt.tight_layout()\n",
    "plt.savefig('Représentation des résidus studentisés.png')"
   ]
  },
  {
   "cell_type": "markdown",
   "metadata": {},
   "source": [
    "### La distance de Cook"
   ]
  },
  {
   "cell_type": "code",
   "execution_count": 39,
   "metadata": {},
   "outputs": [
    {
     "data": {
      "text/plain": [
       "7.017548784244761e-07"
      ]
     },
     "execution_count": 39,
     "metadata": {},
     "output_type": "execute_result"
    }
   ],
   "source": [
    "smf = reg3.get_influence().cooks_distance\n",
    "df_3['dcooks'] = smf[0]\n",
    "seuil_dcook = 4/(n-p)\n",
    "seuil_dcook"
   ]
  },
  {
   "cell_type": "code",
   "execution_count": 40,
   "metadata": {},
   "outputs": [
    {
     "name": "stdout",
     "output_type": "stream",
     "text": [
      "318605\n"
     ]
    }
   ],
   "source": [
    "dcooks=df_3.loc[df_3['dcooks'] > seuil_dcook, :]\n",
    "print(len(dcooks))"
   ]
  },
  {
   "cell_type": "code",
   "execution_count": 41,
   "metadata": {},
   "outputs": [
    {
     "data": {
      "image/png": "[encoded data removed]",
      "text/plain": [
       "<Figure size 1296x576 with 1 Axes>"
      ]
     },
     "metadata": {
      "needs_background": "light"
     },
     "output_type": "display_data"
    }
   ],
   "source": [
    "df_6=df_3.groupby(['Pays', 'mj', 'indice_gini', 'ln_mj']).mean()\n",
    "df_6.reset_index(inplace=True)\n",
    "plt.figure(figsize=(18,8))\n",
    "plt.bar(df_6['Pays'], df_6['dcooks'])\n",
    "plt.xticks(df_6['Pays'],rotation='vertical')\n",
    "plt.xlabel('Pays', fontsize=14)\n",
    "plt.ylabel('Distance de cook', fontsize=14)\n",
    "plt.title('Représentation des distances de cook', fontsize=16)\n",
    "plt.plot([0, 114], [seuil_dcook, seuil_dcook], color='r')\n",
    "plt.tight_layout()\n",
    "plt.savefig('Représentation des distances de cook.png')"
   ]
  },
  {
   "cell_type": "markdown",
   "metadata": {},
   "source": [
    "### Vérifier la colinéarité des variables"
   ]
  },
  {
   "cell_type": "code",
   "execution_count": 42,
   "metadata": {},
   "outputs": [
    {
     "data": {
      "text/plain": [
       "[1.0836049121207354, 1.0836049121206635, 0.9999999999999998]"
      ]
     },
     "execution_count": 42,
     "metadata": {},
     "output_type": "execute_result"
    }
   ],
   "source": [
    "variables = reg3.model.exog\n",
    "[variance_inflation_factor(variables, i) for i in np.arange(1,variables.shape[1])]"
   ]
  },
  {
   "cell_type": "markdown",
   "metadata": {},
   "source": [
    "Ici, tous les coefficients sont inférieurs à 10, il n'y a donc pas de problème de colinéarité."
   ]
  },
  {
   "cell_type": "markdown",
   "metadata": {},
   "source": [
    "### Tester l’homoscédasticité"
   ]
  },
  {
   "cell_type": "markdown",
   "metadata": {},
   "source": [
    "On peut également tester l’homoscédasticité (c'est-à-dire la constance de la variance) des résidus :"
   ]
  },
  {
   "cell_type": "code",
   "execution_count": 43,
   "metadata": {},
   "outputs": [
    {
     "name": "stdout",
     "output_type": "stream",
     "text": [
      "p value test Breusch Pagan: 0.0\n"
     ]
    }
   ],
   "source": [
    "_, pval, __, f_pval = statsmodels.stats.diagnostic.het_breuschpagan(reg3.resid, variables)\n",
    "print('p value test Breusch Pagan:', pval)"
   ]
  },
  {
   "cell_type": "markdown",
   "metadata": {},
   "source": [
    "La p-valeur ici est inférieure à 5 %, on rejette l'hypothèse 𝐻0 selon laquelle les variances sont constantes (l'hypothèse d’homoscédasticité)."
   ]
  },
  {
   "cell_type": "markdown",
   "metadata": {},
   "source": [
    "### Tester la normalité des résidus"
   ]
  },
  {
   "cell_type": "markdown",
   "metadata": {},
   "source": [
    "Si l'on veut tester la normalité des résidus, on peut faire un test de Shapiro-Wilk"
   ]
  },
  {
   "cell_type": "code",
   "execution_count": 44,
   "metadata": {},
   "outputs": [
    {
     "name": "stderr",
     "output_type": "stream",
     "text": [
      "C:\\anaconda3\\lib\\site-packages\\scipy\\stats\\morestats.py:1681: UserWarning: p-value may not be accurate for N > 5000.\n",
      "  warnings.warn(\"p-value may not be accurate for N > 5000.\")\n"
     ]
    },
    {
     "data": {
      "text/plain": [
       "ShapiroResult(statistic=0.9747084975242615, pvalue=0.0)"
      ]
     },
     "execution_count": 44,
     "metadata": {},
     "output_type": "execute_result"
    }
   ],
   "source": [
    "shapiro(reg3.resid)"
   ]
  },
  {
   "cell_type": "markdown",
   "metadata": {},
   "source": [
    "Ici, l'hypothèse de normalité est remise en cause (p-value = 0 < 0.05).\n",
    "\n",
    "Néanmoins, l'observation des résidus, le fait qu'ils ne soient pas très différents d'une distribution symétrique, et le fait que l'échantillon soit de taille suffisante (supérieure à 30) permettent de dire que les résultats obtenus par le modèle linéaire gaussien ne sont pas absurdes, même si le résidu n'est pas considéré comme étant gaussien."
   ]
  },
  {
   "cell_type": "code",
   "execution_count": 45,
   "metadata": {},
   "outputs": [
    {
     "data": {
      "image/png": "[encoded data removed]",
      "text/plain": [
       "<Figure size 432x432 with 1 Axes>"
      ]
     },
     "metadata": {
      "needs_background": "light"
     },
     "output_type": "display_data"
    }
   ],
   "source": [
    "# Droite de Henry\n",
    "fig, ax = plt.subplots(figsize=(6,6))\n",
    "sm.qqplot(reg3.resid,line='45', fit=True,ax=ax)# la distribution des erreurs n'est pas compatible avec la loi normale (on rejette l'hypothèse de la normalité)\n",
    "plt.ylabel('Quantiles de notre échantillon', fontsize=10)\n",
    "plt.yticks(fontsize=10)\n",
    "plt.xlabel('Quantiles d\\'une loi Normale',fontsize=10)\n",
    "plt.xticks(fontsize=10)\n",
    "plt.title('Droite de Henry', fontsize=12)\n",
    "plt.tight_layout()\n",
    "plt.savefig('Droite de Henry.png')\n"
   ]
  },
  {
   "cell_type": "code",
   "execution_count": 46,
   "metadata": {},
   "outputs": [
    {
     "data": {
      "image/png": "[encoded data removed]",
      "text/plain": [
       "<Figure size 432x432 with 1 Axes>"
      ]
     },
     "metadata": {
      "needs_background": "light"
     },
     "output_type": "display_data"
    }
   ],
   "source": [
    "# Préparation des données\n",
    "X = reg3.resid\n",
    "Xbar = np.mean(X)\n",
    "Xsprime = np.std(X)\n",
    "\n",
    "#Représentation de la distribution marginale\n",
    "plt.figure(figsize=(6,6))\n",
    "\n",
    "plt.hist(X, 100, facecolor='g')\n",
    "plt.axvline(Xbar, color='r', linewidth=2)\n",
    "\n",
    "plt.title('Distribution marginale des residus', fontsize=16)\n",
    "plt.ylabel('Nombre',fontsize=12)\n",
    "plt.yticks(fontsize=10)\n",
    "plt.xlabel('Residus',fontsize=12)\n",
    "plt.yticks(fontsize=10)\n",
    "plt.tight_layout()\n",
    "plt.savefig('Distribution marginale des residus.png')"
   ]
  },
  {
   "cell_type": "markdown",
   "metadata": {},
   "source": [
    "les résidus ne sont pas compatibles avec la loi normale"
   ]
  },
  {
   "cell_type": "markdown",
   "metadata": {},
   "source": [
    "On calcule le nombre de points atypiques et influents"
   ]
  },
  {
   "cell_type": "code",
   "execution_count": 47,
   "metadata": {},
   "outputs": [
    {
     "name": "stdout",
     "output_type": "stream",
     "text": [
      "427798\n"
     ]
    }
   ],
   "source": [
    "atypique=df_3.loc[(df_3['levier'] > seuil_levier)|(df_3['dcooks'] > seuil_dcook)|(df_3['rstudent'] >abs(seuil_rstudent))]\n",
    "print(len(atypique))"
   ]
  },
  {
   "cell_type": "markdown",
   "metadata": {},
   "source": [
    "On supprime ces points"
   ]
  },
  {
   "cell_type": "code",
   "execution_count": 48,
   "metadata": {},
   "outputs": [],
   "source": [
    "df_3.drop(df_3.loc[(df_3['levier'] > seuil_levier)|(df_3['dcooks'] > seuil_dcook)|(df_3['rstudent'] >abs(seuil_rstudent))].index, inplace=True)"
   ]
  },
  {
   "cell_type": "markdown",
   "metadata": {},
   "source": [
    "On applique la régression linéaire"
   ]
  },
  {
   "cell_type": "code",
   "execution_count": 49,
   "metadata": {},
   "outputs": [
    {
     "name": "stdout",
     "output_type": "stream",
     "text": [
      "                            OLS Regression Results                            \n",
      "==============================================================================\n",
      "Dep. Variable:             ln_y_child   R-squared:                       0.851\n",
      "Model:                            OLS   Adj. R-squared:                  0.851\n",
      "Method:                 Least Squares   F-statistic:                 1.006e+07\n",
      "Date:                Mon, 13 Sep 2021   Prob (F-statistic):               0.00\n",
      "Time:                        23:07:27   Log-Likelihood:            -3.9443e+06\n",
      "No. Observations:             5272202   AIC:                         7.889e+06\n",
      "Df Residuals:                 5272198   BIC:                         7.889e+06\n",
      "Df Model:                           3                                         \n",
      "Covariance Type:            nonrobust                                         \n",
      "===============================================================================\n",
      "                  coef    std err          t      P>|t|      [0.025      0.975]\n",
      "-------------------------------------------------------------------------------\n",
      "Intercept      -0.1451      0.002    -62.209      0.000      -0.150      -0.141\n",
      "indice_gini    -0.0163   3.09e-05   -525.873      0.000      -0.016      -0.016\n",
      "ln_mj           1.0002      0.000   4906.476      0.000       1.000       1.001\n",
      "c_i_parents     0.0095   7.87e-06   1207.081      0.000       0.009       0.010\n",
      "==============================================================================\n",
      "Omnibus:                    21874.338   Durbin-Watson:                   0.007\n",
      "Prob(Omnibus):                  0.000   Jarque-Bera (JB):            17020.732\n",
      "Skew:                          -0.051   Prob(JB):                         0.00\n",
      "Kurtosis:                       2.741   Cond. No.                         709.\n",
      "==============================================================================\n",
      "\n",
      "Warnings:\n",
      "[1] Standard Errors assume that the covariance matrix of the errors is correctly specified.\n"
     ]
    }
   ],
   "source": [
    "import statsmodels.formula.api as smf\n",
    "reg4 = smf.ols('ln_y_child ~ indice_gini + ln_mj+c_i_parents', data=df_3).fit(alpha=0.05)\n",
    "print(reg4.summary())"
   ]
  },
  {
   "cell_type": "markdown",
   "metadata": {},
   "source": [
    "le modèle explique 85.1% de la variance toutes les variables sont significativement différents de zéro"
   ]
  },
  {
   "cell_type": "markdown",
   "metadata": {},
   "source": [
    "en observant juste le coefficient de régression associé à l'indice de gini on peut affirmer que le fait de vivre dans un pays plus inégalitaire (l'indice de gini est élevé ) le revenu d'individus va diminuer car le coefficient est négatif donc plus ça va se défavoriser des personnes.  \n"
   ]
  },
  {
   "cell_type": "markdown",
   "metadata": {},
   "source": [
    "On calcul le R² pour les variables indice de gini, le revenu moy (log) et la classe de revenus des parents "
   ]
  },
  {
   "cell_type": "code",
   "execution_count": 54,
   "metadata": {},
   "outputs": [
    {
     "data": {
      "text/plain": [
       "(0.6804647949467518, 0.12978217733279546, 0.04108612814010256)"
      ]
     },
     "execution_count": 54,
     "metadata": {},
     "output_type": "execute_result"
    }
   ],
   "source": [
    "l4=sm.stats.anova_lm(reg4,typ=1)\n",
    "SCE_ind = l4.iloc[0,1]\n",
    "SCE_ln_mj=l4.iloc[1,1]\n",
    "SCE_cl=l4.iloc[2,1]\n",
    "SCR=l4.iloc[3,1]\n",
    "R_ind=SCE_ind/(SCE_ind+SCE_ln_mj+SCE_cl+SCR)\n",
    "R_ln_mj=SCE_ln_mj/(SCE_ind+SCE_ln_mj+SCE_cl+SCR)\n",
    "R_cl=SCE_cl/(SCE_ind+SCE_ln_mj+SCE_cl+SCR)\n",
    "R_ln_mj,R_ind, R_cl"
   ]
  },
  {
   "cell_type": "markdown",
   "metadata": {},
   "source": [
    "On vérifie la normalité des résidus"
   ]
  },
  {
   "cell_type": "code",
   "execution_count": 50,
   "metadata": {},
   "outputs": [
    {
     "data": {
      "image/png": "[encoded data removed]",
      "text/plain": [
       "<Figure size 432x432 with 1 Axes>"
      ]
     },
     "metadata": {
      "needs_background": "light"
     },
     "output_type": "display_data"
    }
   ],
   "source": [
    "# Droite de Henry\n",
    "fig, ax = plt.subplots(figsize=(6,6))\n",
    "sm.qqplot(reg4.resid,line='45', fit=True,ax=ax)# la distribution des erreurs n'est pas compatible avec la loi normale (on rejette l'hypothèse de la normalité)\n",
    "plt.ylabel('Quantiles de notre échantillon', fontsize=10)\n",
    "plt.yticks(fontsize=10)\n",
    "plt.xlabel('Quantiles d\\'une loi Normale',fontsize=10)\n",
    "plt.xticks(fontsize=10)\n",
    "plt.title('Droite de Henry', fontsize=12)\n",
    "plt.tight_layout()\n",
    "plt.savefig('Droite de Henry2.png')"
   ]
  },
  {
   "cell_type": "code",
   "execution_count": 51,
   "metadata": {},
   "outputs": [
    {
     "data": {
      "image/png": "[encoded data removed]",
      "text/plain": [
       "<Figure size 432x432 with 1 Axes>"
      ]
     },
     "metadata": {
      "needs_background": "light"
     },
     "output_type": "display_data"
    }
   ],
   "source": [
    "# Préparation des données\n",
    "X = reg4.resid\n",
    "Xbar = np.mean(X)\n",
    "Xsprime = np.std(X)\n",
    "\n",
    "#Représentation de la distribution marginale\n",
    "plt.figure(figsize=(6,6))\n",
    "\n",
    "plt.hist(X, 100, facecolor='g')\n",
    "plt.axvline(Xbar, color='r', linewidth=2)\n",
    "\n",
    "plt.title('Distribution marginale des residus', fontsize=16)\n",
    "plt.ylabel('Nombre',fontsize=12)\n",
    "plt.yticks(fontsize=10)\n",
    "plt.xlabel('Residus',fontsize=12)\n",
    "plt.yticks(fontsize=10)\n",
    "plt.tight_layout()\n",
    "plt.savefig('Distribution marginale des residus2.png')"
   ]
  },
  {
   "cell_type": "code",
   "execution_count": 58,
   "metadata": {},
   "outputs": [
    {
     "name": "stderr",
     "output_type": "stream",
     "text": [
      "C:\\anaconda3\\lib\\site-packages\\scipy\\stats\\morestats.py:1681: UserWarning: p-value may not be accurate for N > 5000.\n",
      "  warnings.warn(\"p-value may not be accurate for N > 5000.\")\n"
     ]
    },
    {
     "data": {
      "text/plain": [
       "ShapiroResult(statistic=0.998687744140625, pvalue=0.0)"
      ]
     },
     "execution_count": 58,
     "metadata": {},
     "output_type": "execute_result"
    }
   ],
   "source": [
    "shapiro(reg4.resid)"
   ]
  },
  {
   "cell_type": "code",
   "execution_count": null,
   "metadata": {},
   "outputs": [],
   "source": []
  }
 ],
 "metadata": {
  "kernelspec": {
   "display_name": "Python 3",
   "language": "python",
   "name": "python3"
  },
  "language_info": {
   "codemirror_mode": {
    "name": "ipython",
    "version": 3
   },
   "file_extension": ".py",
   "mimetype": "text/x-python",
   "name": "python",
   "nbconvert_exporter": "python",
   "pygments_lexer": "ipython3",
   "version": "3.8.3"
  }
 },
 "nbformat": 4,
 "nbformat_minor": 4
}
